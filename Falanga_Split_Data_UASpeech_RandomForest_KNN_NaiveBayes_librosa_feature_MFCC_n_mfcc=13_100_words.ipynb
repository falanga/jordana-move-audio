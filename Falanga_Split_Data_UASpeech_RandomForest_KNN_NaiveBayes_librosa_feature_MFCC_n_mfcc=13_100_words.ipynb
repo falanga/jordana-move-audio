{
  "nbformat": 4,
  "nbformat_minor": 0,
  "metadata": {
    "colab": {
      "provenance": [],
      "machine_shape": "hm",
      "collapsed_sections": [
        "359x5eUApZMN"
      ],
      "include_colab_link": true
    },
    "kernelspec": {
      "name": "python3",
      "display_name": "Python 3"
    },
    "language_info": {
      "name": "python"
    },
    "accelerator": "GPU",
    "gpuClass": "standard",
    "widgets": {
      "application/vnd.jupyter.widget-state+json": {
        "91194ccbbccf476a9b0dd31747d668dc": {
          "model_module": "@jupyter-widgets/controls",
          "model_name": "HBoxModel",
          "model_module_version": "1.5.0",
          "state": {
            "_dom_classes": [],
            "_model_module": "@jupyter-widgets/controls",
            "_model_module_version": "1.5.0",
            "_model_name": "HBoxModel",
            "_view_count": null,
            "_view_module": "@jupyter-widgets/controls",
            "_view_module_version": "1.5.0",
            "_view_name": "HBoxView",
            "box_style": "",
            "children": [
              "IPY_MODEL_f1e7cef2f8004746a45a6c1c0f93837a",
              "IPY_MODEL_d98c7afcea5448efb433b6c1070ce646",
              "IPY_MODEL_4add059f92c64b9aa8c4fe7d92450abd"
            ],
            "layout": "IPY_MODEL_77e0bb4546d54343b282940f6d02cb79"
          }
        },
        "f1e7cef2f8004746a45a6c1c0f93837a": {
          "model_module": "@jupyter-widgets/controls",
          "model_name": "HTMLModel",
          "model_module_version": "1.5.0",
          "state": {
            "_dom_classes": [],
            "_model_module": "@jupyter-widgets/controls",
            "_model_module_version": "1.5.0",
            "_model_name": "HTMLModel",
            "_view_count": null,
            "_view_module": "@jupyter-widgets/controls",
            "_view_module_version": "1.5.0",
            "_view_name": "HTMLView",
            "description": "",
            "description_tooltip": null,
            "layout": "IPY_MODEL_0ace2089aa664af3aa476449a0bf38fa",
            "placeholder": "​",
            "style": "IPY_MODEL_2382de8491ef4862a9fe1a96f0e8943f",
            "value": "100%"
          }
        },
        "d98c7afcea5448efb433b6c1070ce646": {
          "model_module": "@jupyter-widgets/controls",
          "model_name": "FloatProgressModel",
          "model_module_version": "1.5.0",
          "state": {
            "_dom_classes": [],
            "_model_module": "@jupyter-widgets/controls",
            "_model_module_version": "1.5.0",
            "_model_name": "FloatProgressModel",
            "_view_count": null,
            "_view_module": "@jupyter-widgets/controls",
            "_view_module_version": "1.5.0",
            "_view_name": "ProgressView",
            "bar_style": "success",
            "description": "",
            "description_tooltip": null,
            "layout": "IPY_MODEL_4c831be1e1104a77949b13484afe5ff7",
            "max": 751,
            "min": 0,
            "orientation": "horizontal",
            "style": "IPY_MODEL_89a289dd39904a52ad8eec21bc242885",
            "value": 751
          }
        },
        "4add059f92c64b9aa8c4fe7d92450abd": {
          "model_module": "@jupyter-widgets/controls",
          "model_name": "HTMLModel",
          "model_module_version": "1.5.0",
          "state": {
            "_dom_classes": [],
            "_model_module": "@jupyter-widgets/controls",
            "_model_module_version": "1.5.0",
            "_model_name": "HTMLModel",
            "_view_count": null,
            "_view_module": "@jupyter-widgets/controls",
            "_view_module_version": "1.5.0",
            "_view_name": "HTMLView",
            "description": "",
            "description_tooltip": null,
            "layout": "IPY_MODEL_ebcaa05e773647f1a5936bdf14854393",
            "placeholder": "​",
            "style": "IPY_MODEL_3c4067d6b9a44242b7aa63cd7f58deee",
            "value": " 751/751 [02:14&lt;00:00,  2.46it/s]"
          }
        },
        "77e0bb4546d54343b282940f6d02cb79": {
          "model_module": "@jupyter-widgets/base",
          "model_name": "LayoutModel",
          "model_module_version": "1.2.0",
          "state": {
            "_model_module": "@jupyter-widgets/base",
            "_model_module_version": "1.2.0",
            "_model_name": "LayoutModel",
            "_view_count": null,
            "_view_module": "@jupyter-widgets/base",
            "_view_module_version": "1.2.0",
            "_view_name": "LayoutView",
            "align_content": null,
            "align_items": null,
            "align_self": null,
            "border": null,
            "bottom": null,
            "display": null,
            "flex": null,
            "flex_flow": null,
            "grid_area": null,
            "grid_auto_columns": null,
            "grid_auto_flow": null,
            "grid_auto_rows": null,
            "grid_column": null,
            "grid_gap": null,
            "grid_row": null,
            "grid_template_areas": null,
            "grid_template_columns": null,
            "grid_template_rows": null,
            "height": null,
            "justify_content": null,
            "justify_items": null,
            "left": null,
            "margin": null,
            "max_height": null,
            "max_width": null,
            "min_height": null,
            "min_width": null,
            "object_fit": null,
            "object_position": null,
            "order": null,
            "overflow": null,
            "overflow_x": null,
            "overflow_y": null,
            "padding": null,
            "right": null,
            "top": null,
            "visibility": null,
            "width": null
          }
        },
        "0ace2089aa664af3aa476449a0bf38fa": {
          "model_module": "@jupyter-widgets/base",
          "model_name": "LayoutModel",
          "model_module_version": "1.2.0",
          "state": {
            "_model_module": "@jupyter-widgets/base",
            "_model_module_version": "1.2.0",
            "_model_name": "LayoutModel",
            "_view_count": null,
            "_view_module": "@jupyter-widgets/base",
            "_view_module_version": "1.2.0",
            "_view_name": "LayoutView",
            "align_content": null,
            "align_items": null,
            "align_self": null,
            "border": null,
            "bottom": null,
            "display": null,
            "flex": null,
            "flex_flow": null,
            "grid_area": null,
            "grid_auto_columns": null,
            "grid_auto_flow": null,
            "grid_auto_rows": null,
            "grid_column": null,
            "grid_gap": null,
            "grid_row": null,
            "grid_template_areas": null,
            "grid_template_columns": null,
            "grid_template_rows": null,
            "height": null,
            "justify_content": null,
            "justify_items": null,
            "left": null,
            "margin": null,
            "max_height": null,
            "max_width": null,
            "min_height": null,
            "min_width": null,
            "object_fit": null,
            "object_position": null,
            "order": null,
            "overflow": null,
            "overflow_x": null,
            "overflow_y": null,
            "padding": null,
            "right": null,
            "top": null,
            "visibility": null,
            "width": null
          }
        },
        "2382de8491ef4862a9fe1a96f0e8943f": {
          "model_module": "@jupyter-widgets/controls",
          "model_name": "DescriptionStyleModel",
          "model_module_version": "1.5.0",
          "state": {
            "_model_module": "@jupyter-widgets/controls",
            "_model_module_version": "1.5.0",
            "_model_name": "DescriptionStyleModel",
            "_view_count": null,
            "_view_module": "@jupyter-widgets/base",
            "_view_module_version": "1.2.0",
            "_view_name": "StyleView",
            "description_width": ""
          }
        },
        "4c831be1e1104a77949b13484afe5ff7": {
          "model_module": "@jupyter-widgets/base",
          "model_name": "LayoutModel",
          "model_module_version": "1.2.0",
          "state": {
            "_model_module": "@jupyter-widgets/base",
            "_model_module_version": "1.2.0",
            "_model_name": "LayoutModel",
            "_view_count": null,
            "_view_module": "@jupyter-widgets/base",
            "_view_module_version": "1.2.0",
            "_view_name": "LayoutView",
            "align_content": null,
            "align_items": null,
            "align_self": null,
            "border": null,
            "bottom": null,
            "display": null,
            "flex": null,
            "flex_flow": null,
            "grid_area": null,
            "grid_auto_columns": null,
            "grid_auto_flow": null,
            "grid_auto_rows": null,
            "grid_column": null,
            "grid_gap": null,
            "grid_row": null,
            "grid_template_areas": null,
            "grid_template_columns": null,
            "grid_template_rows": null,
            "height": null,
            "justify_content": null,
            "justify_items": null,
            "left": null,
            "margin": null,
            "max_height": null,
            "max_width": null,
            "min_height": null,
            "min_width": null,
            "object_fit": null,
            "object_position": null,
            "order": null,
            "overflow": null,
            "overflow_x": null,
            "overflow_y": null,
            "padding": null,
            "right": null,
            "top": null,
            "visibility": null,
            "width": null
          }
        },
        "89a289dd39904a52ad8eec21bc242885": {
          "model_module": "@jupyter-widgets/controls",
          "model_name": "ProgressStyleModel",
          "model_module_version": "1.5.0",
          "state": {
            "_model_module": "@jupyter-widgets/controls",
            "_model_module_version": "1.5.0",
            "_model_name": "ProgressStyleModel",
            "_view_count": null,
            "_view_module": "@jupyter-widgets/base",
            "_view_module_version": "1.2.0",
            "_view_name": "StyleView",
            "bar_color": null,
            "description_width": ""
          }
        },
        "ebcaa05e773647f1a5936bdf14854393": {
          "model_module": "@jupyter-widgets/base",
          "model_name": "LayoutModel",
          "model_module_version": "1.2.0",
          "state": {
            "_model_module": "@jupyter-widgets/base",
            "_model_module_version": "1.2.0",
            "_model_name": "LayoutModel",
            "_view_count": null,
            "_view_module": "@jupyter-widgets/base",
            "_view_module_version": "1.2.0",
            "_view_name": "LayoutView",
            "align_content": null,
            "align_items": null,
            "align_self": null,
            "border": null,
            "bottom": null,
            "display": null,
            "flex": null,
            "flex_flow": null,
            "grid_area": null,
            "grid_auto_columns": null,
            "grid_auto_flow": null,
            "grid_auto_rows": null,
            "grid_column": null,
            "grid_gap": null,
            "grid_row": null,
            "grid_template_areas": null,
            "grid_template_columns": null,
            "grid_template_rows": null,
            "height": null,
            "justify_content": null,
            "justify_items": null,
            "left": null,
            "margin": null,
            "max_height": null,
            "max_width": null,
            "min_height": null,
            "min_width": null,
            "object_fit": null,
            "object_position": null,
            "order": null,
            "overflow": null,
            "overflow_x": null,
            "overflow_y": null,
            "padding": null,
            "right": null,
            "top": null,
            "visibility": null,
            "width": null
          }
        },
        "3c4067d6b9a44242b7aa63cd7f58deee": {
          "model_module": "@jupyter-widgets/controls",
          "model_name": "DescriptionStyleModel",
          "model_module_version": "1.5.0",
          "state": {
            "_model_module": "@jupyter-widgets/controls",
            "_model_module_version": "1.5.0",
            "_model_name": "DescriptionStyleModel",
            "_view_count": null,
            "_view_module": "@jupyter-widgets/base",
            "_view_module_version": "1.2.0",
            "_view_name": "StyleView",
            "description_width": ""
          }
        }
      }
    }
  },
  "cells": [
    {
      "cell_type": "markdown",
      "metadata": {
        "id": "view-in-github",
        "colab_type": "text"
      },
      "source": [
        "<a href=\"https://colab.research.google.com/github/falanga/jordana-move-audio/blob/main/Falanga_Split_Data_UASpeech_RandomForest_KNN_NaiveBayes_librosa_feature_MFCC_n_mfcc%3D13_100_words.ipynb\" target=\"_parent\"><img src=\"https://colab.research.google.com/assets/colab-badge.svg\" alt=\"Open In Colab\"/></a>"
      ]
    },
    {
      "cell_type": "markdown",
      "source": [
        "https://www.kaggle.com/code/amlanpraharaj/random-forest-using-mfcc-features/notebook\n",
        "\n",
        "https://www.kaggle.com/code/anmour/svm-using-mfcc-features/notebook\n",
        "\n",
        "https://www.kaggle.com/code/ilyamich/mfcc-implementation-and-tutorial"
      ],
      "metadata": {
        "id": "-XRxTVO2D_ak"
      }
    },
    {
      "cell_type": "markdown",
      "source": [
        "# Bibliotecas"
      ],
      "metadata": {
        "id": "kfC24WII0kNM"
      }
    },
    {
      "cell_type": "code",
      "source": [
        "from sklearn.svm import SVC \n",
        "from sklearn.ensemble import RandomForestClassifier \n",
        "from sklearn.neighbors import KNeighborsClassifier \n",
        "from sklearn.metrics import classification_report,mean_squared_error,accuracy_score, plot_confusion_matrix, confusion_matrix \n",
        "from sklearn.model_selection import GridSearchCV \n",
        "from sklearn.model_selection import train_test_split \n"
      ],
      "metadata": {
        "id": "aOTVRTtNFQuM"
      },
      "execution_count": 1,
      "outputs": []
    },
    {
      "cell_type": "markdown",
      "source": [
        "# Extração dos Arquivos de Áudio (Apenas se fizer novamente)\n",
        "\n",
        "---\n",
        "\n"
      ],
      "metadata": {
        "id": "359x5eUApZMN"
      }
    },
    {
      "cell_type": "code",
      "execution_count": null,
      "metadata": {
        "colab": {
          "base_uri": "https://localhost:8080/"
        },
        "id": "-kQgnhGXoUMM",
        "outputId": "05a85bf1-dc5f-476c-c055-14b8cf0ab268"
      },
      "outputs": [
        {
          "output_type": "stream",
          "name": "stdout",
          "text": [
            "⚙️ Construindo acesso ao diretório\n",
            "Mounted at /content/drive\n",
            "replace uaspeech/up/CF02_B1_CW51_M2.wav? [y]es, [n]o, [A]ll, [N]one, [r]ename: A\n",
            "✅ Concluído extração dos arquivos. Execução: 38.36 segundos.\n"
          ]
        }
      ],
      "source": [
        "# Trabalhando com o github, agora\n",
        "import time as tm ###\n",
        "\n",
        "print(\"⚙️ Construindo acesso ao diretório\")\n",
        "from google.colab import drive\n",
        "drive.mount('/content/drive', True)\n",
        "\n",
        "start = tm.time()\n",
        "!unzip -q \"/content/drive/MyDrive/mini_UASpeech_50_words.zip\" -d \"uaspeech\" \n",
        "\n",
        "end = tm.time()\n",
        "print(\"✅ Concluído extração dos arquivos. Execução: {} segundos.\".format(round(end-start,2)))  "
      ]
    },
    {
      "cell_type": "markdown",
      "source": [
        "# Criar base de dados para Treinamento e Testes (Apenas se fizer novamente)"
      ],
      "metadata": {
        "id": "U7GLPrm2rBAK"
      }
    },
    {
      "cell_type": "code",
      "source": [
        "from scipy.stats import skew\n",
        "\n",
        "# Generate mfcc features with mean and standard deviation\n",
        "def get_mfcc(nome_do_audio):\n",
        "    data, SAMPLE_RATE = librosa.load(nome_do_audio)\n",
        "\n",
        "    try:\n",
        "        ft1 = librosa.feature.mfcc(data, sr = SAMPLE_RATE, n_mfcc=13)\n",
        "        # ft2 = librosa.feature.zero_crossing_rate(data)[0]\n",
        "        # ft3 = librosa.feature.spectral_rolloff(data)[0]\n",
        "        # ft4 = librosa.feature.spectral_centroid(data)[0]\n",
        "        # ft5 = librosa.feature.spectral_contrast(data)[0]\n",
        "        # ft6 = librosa.feature.spectral_bandwidth(data)[0]\n",
        "        ft1_trunc = np.hstack((np.mean(ft1, axis=1), np.std(ft1, axis=1), skew(ft1, axis = 1), np.max(ft1, axis = 1), np.median(ft1, axis = 1), np.min(ft1, axis = 1)))\n",
        "        # ft2_trunc = np.hstack((np.mean(ft2), np.std(ft2), skew(ft2), np.max(ft2), np.median(ft2), np.min(ft2)))\n",
        "        # ft3_trunc = np.hstack((np.mean(ft3), np.std(ft3), skew(ft3), np.max(ft3), np.median(ft3), np.min(ft3)))\n",
        "        # ft4_trunc = np.hstack((np.mean(ft4), np.std(ft4), skew(ft4), np.max(ft4), np.median(ft4), np.min(ft4)))\n",
        "        # ft5_trunc = np.hstack((np.mean(ft5), np.std(ft5), skew(ft5), np.max(ft5), np.median(ft5), np.min(ft5)))\n",
        "        # ft6_trunc = np.hstack((np.mean(ft6), np.std(ft6), skew(ft6), np.max(ft6), np.median(ft6), np.max(ft6)))\n",
        "        # return pd.Series(np.hstack((ft1_trunc, ft2_trunc, ft3_trunc, ft4_trunc, ft5_trunc, ft6_trunc)))\n",
        "        return pd.Series(np.hstack((ft1_trunc)))\n",
        "\n",
        "    except:\n",
        "        print('bad file')\n",
        "        return pd.Series([0]*210)"
      ],
      "metadata": {
        "id": "pftp4-j2iBXl"
      },
      "execution_count": 2,
      "outputs": []
    },
    {
      "cell_type": "code",
      "source": [
        "# Função para identificar a inteligibilidade dos áudios\n",
        "\n",
        "def get_inteligibilidade(nome_do_audio):\n",
        "  very_low_list = ['M01', 'M04', 'M12', 'F03']\n",
        "  low_list = ['M06', 'M07', 'F02', 'M16']\n",
        "  mid_list = ['M05', 'F04', 'M11']\n",
        "  high_list = ['M08', 'M09', 'M10', 'F04', 'M14']\n",
        "\n",
        "  nome = nome_do_audio.split(os.sep)[-1]\n",
        "  inteligibilidade = nome.split('_')[0]\n",
        "  if inteligibilidade in very_low_list:\n",
        "    return 'very_low'\n",
        "  if inteligibilidade in low_list:\n",
        "    return 'low'\n",
        "  if inteligibilidade in mid_list:\n",
        "    return 'mid'\n",
        "  if inteligibilidade in high_list:\n",
        "    return 'high'\n",
        "  return 'control'\n"
      ],
      "metadata": {
        "id": "8uuaOiOVSQTU"
      },
      "execution_count": 4,
      "outputs": []
    },
    {
      "cell_type": "code",
      "source": [
        "# Gera dados de treinamento, palavra por palavra\n",
        "import os\n",
        "import time as tm ###\n",
        "import librosa\n",
        "\n",
        "import glob\n",
        "import numpy as np\n",
        "from IPython.display import Audio\n",
        "from sklearn.model_selection import train_test_split ###\n",
        "\n",
        "import pandas as pd\n",
        "from tqdm.notebook import tqdm\n",
        "tqdm.pandas()\n",
        "\n",
        "import librosa.display as ld\n",
        "from tqdm import tqdm\n",
        "\n",
        "from google.colab import drive\n",
        "drive.mount('/content/drive', True)\n",
        "\n",
        "# Definição de variáveis\n",
        "dir_de_sons = '/content/drive/MyDrive/Jordana/juntos/'\n",
        "\n",
        "print(\"⚙️ Extração MFCC para as palavras\")\n",
        "start = tm.time()\n",
        "\n",
        "# preenche a lista de nomes dos arquivos\n",
        "labels_list = []\n",
        "for name in glob.glob(str(dir_de_sons) + '/*'):\n",
        "  labels_list.append(name.split(os.sep)[-1])\n",
        "\n",
        "\n",
        "# labels_list é a lista de palavras\n",
        "speech_labels_list = []\n",
        "speech_inteligibilidade_list = []\n",
        "speech_data_list = []\n",
        "\n",
        "for label in labels_list:\n",
        "  # label é a palavras sendo dita\n",
        "  i = 0\n",
        "  for name in glob.glob(str(dir_de_sons) + label + '/*'):\n",
        "    speech_data_list.append(name)\n",
        "    speech_labels_list.append(label)\n",
        "    speech_inteligibilidade_list.append(get_inteligibilidade(name))\n",
        "    # i += 1\n",
        "    # if i == 300:\n",
        "    #   break\n",
        "\n",
        "data = pd.DataFrame()\n",
        "data['fname'] = speech_data_list\n",
        "\n",
        "data = data['fname'].progress_apply(get_mfcc)\n",
        "data['fname'] = speech_data_list\n",
        "data['label'] = speech_labels_list\n",
        "data['inteligibilidade'] = speech_inteligibilidade_list\n"
      ],
      "metadata": {
        "colab": {
          "base_uri": "https://localhost:8080/",
          "height": 84,
          "referenced_widgets": [
            "91194ccbbccf476a9b0dd31747d668dc",
            "f1e7cef2f8004746a45a6c1c0f93837a",
            "d98c7afcea5448efb433b6c1070ce646",
            "4add059f92c64b9aa8c4fe7d92450abd",
            "77e0bb4546d54343b282940f6d02cb79",
            "0ace2089aa664af3aa476449a0bf38fa",
            "2382de8491ef4862a9fe1a96f0e8943f",
            "4c831be1e1104a77949b13484afe5ff7",
            "89a289dd39904a52ad8eec21bc242885",
            "ebcaa05e773647f1a5936bdf14854393",
            "3c4067d6b9a44242b7aa63cd7f58deee"
          ]
        },
        "id": "OEIMO7DTH0OZ",
        "outputId": "c9cf5b27-93ba-4fb6-f723-2a15b6b0b6eb"
      },
      "execution_count": 9,
      "outputs": [
        {
          "output_type": "stream",
          "name": "stdout",
          "text": [
            "Mounted at /content/drive\n",
            "⚙️ Extração MFCC para as palavras\n"
          ]
        },
        {
          "output_type": "display_data",
          "data": {
            "text/plain": [
              "  0%|          | 0/751 [00:00<?, ?it/s]"
            ],
            "application/vnd.jupyter.widget-view+json": {
              "version_major": 2,
              "version_minor": 0,
              "model_id": "91194ccbbccf476a9b0dd31747d668dc"
            }
          },
          "metadata": {}
        }
      ]
    },
    {
      "cell_type": "code",
      "source": [
        "#Salvar dados de treinamento\n",
        "from google.colab import drive\n",
        "diretorio_google = '/content/drive'\n",
        "drive.mount(diretorio_google, True)\n",
        "\n",
        "from pathlib import Path  \n",
        "filepath = Path(diretorio_google + \"/MyDrive/Jordana\" + \"/inteligibilidade.csv\")  \n",
        "start = tm.time()\n",
        "\n",
        "filepath.parent.mkdir(parents=True, exist_ok=True)  \n",
        "data.to_csv(filepath)\n",
        "\n",
        "end = tm.time()\n",
        "print(\"✅ Concluído avaliação das palavras. Execução: {} segundos.\".format(round(end-start,2)))  \n",
        "\n",
        "# Audio(data = wave_carregado[0], rate = wave_carregado[1])"
      ],
      "metadata": {
        "colab": {
          "base_uri": "https://localhost:8080/"
        },
        "id": "8mUXnmNuIKMR",
        "outputId": "63a2579c-426d-42eb-d119-6e04a0f2aeb8"
      },
      "execution_count": 13,
      "outputs": [
        {
          "output_type": "stream",
          "name": "stdout",
          "text": [
            "Mounted at /content/drive\n",
            "✅ Concluído avaliação das palavras. Execução: 0.09 segundos.\n"
          ]
        }
      ]
    },
    {
      "cell_type": "markdown",
      "source": [
        "# Gerar dados de treinamento e teste "
      ],
      "metadata": {
        "id": "b1_VuQhPYP6Y"
      }
    },
    {
      "cell_type": "code",
      "source": [
        "# Função para separar dados de teste e de treinamento especial para excluir alguns itens\n",
        "import random\n",
        "\n",
        "def random_unique(lista, quantidade):\n",
        "  retorno = []\n",
        "\n",
        "  if quantidade < len(lista):\n",
        "    while len(retorno)<quantidade:\n",
        "      escolhido = random.choice(lista)\n",
        "      if escolhido not in retorno:\n",
        "        retorno.append(escolhido)\n",
        "    return retorno\n",
        "  return lista\n",
        "\n",
        "\n",
        "def train_test_split_dysarthric(X, inteligibilidades, test_size=0.3):\n",
        "  falas_por_inteligibilidade = {}\n",
        "  falas_por_inteligibilidade_train = {}\n",
        "  falas_por_inteligibilidade_test = {}\n",
        "\n",
        "  # Cria o dicionário com as inteligibilidades\n",
        "  for inteligibilidade in inteligibilidades:\n",
        "    falas_por_inteligibilidade[inteligibilidades[inteligibilidade]] = []\n",
        "    falas_por_inteligibilidade_train[inteligibilidades[inteligibilidade]] = []\n",
        "    falas_por_inteligibilidade_test[inteligibilidades[inteligibilidade]] = []\n",
        "\n",
        "  i = range(len(X))\n",
        "  for index in i:\n",
        "     inteligibilidade_da_fala = X.iloc[index]['inteligibilidade']\n",
        "     if inteligibilidade_da_fala in inteligibilidades:\n",
        "        indice_da_inteligibilidade_da_fala = inteligibilidade_list[inteligibilidade_da_fala]\n",
        "        falas_por_inteligibilidade[indice_da_inteligibilidade_da_fala].append(index)\n",
        "    # filter(lambda fala: fala['inteligibilidade'] == inteligibilidade, X)\n",
        "\n",
        "  n_tests = []\n",
        "  n_trains = []\n",
        "  for inteligibilidade_indice in inteligibilidades:\n",
        "    indice = inteligibilidades[inteligibilidade_indice]\n",
        "    n_test = (int) (len(falas_por_inteligibilidade[indice]) * test_size)\n",
        "    n_tests.append(n_test)\n",
        "    n_trains.append(len(falas_por_inteligibilidade[indice]) - n_test)\n",
        "\n",
        "    falas_por_inteligibilidade_test[indice] = random_unique(falas_por_inteligibilidade[indice], n_test)\n",
        "    falas_por_inteligibilidade[indice].sort()\n",
        "    falas_por_inteligibilidade_test[indice].sort()\n",
        "    falas_por_inteligibilidade_train[indice].sort()\n",
        "    falas_por_inteligibilidade_train[indice] = list(set(falas_por_inteligibilidade[indice]).difference(falas_por_inteligibilidade_test[indice]))\n",
        "\n",
        "  return falas_por_inteligibilidade, falas_por_inteligibilidade_test, falas_por_inteligibilidade_train\n"
      ],
      "metadata": {
        "id": "YbqRYIwemIqp"
      },
      "execution_count": 283,
      "outputs": []
    },
    {
      "cell_type": "code",
      "source": [
        "#Proximo passo:\n",
        "# Retornar as falas de acordo com as inteligibilidades e iterar para cada inteligibilidade executando train e test\n",
        "inteligibilidade_list = {'very_low':0, 'low':1,'mid':2,'high':3}\n",
        "\n",
        "res_total, res_test, res_train = train_test_split_dysarthric(data, inteligibilidade_list)\n",
        "\n",
        "print(len(res_total[0]))\n",
        "print(len(res_test[0]))\n",
        "print(len(res_train[0]))\n",
        "print(len(res_total[1]))\n",
        "print(len(res_test[1]))\n",
        "print(len(res_train[1]))\n",
        "print(len(res_total[2]))\n",
        "print(len(res_test[2]))\n",
        "print(len(res_train[2]))\n",
        "print(len(res_total[3]))\n",
        "print(len(res_test[3]))\n",
        "print(len(res_train[3]))\n"
      ],
      "metadata": {
        "colab": {
          "base_uri": "https://localhost:8080/"
        },
        "id": "PbZl18o0bZ_M",
        "outputId": "413768de-f793-45f3-a912-0da1ff24df20"
      },
      "execution_count": 285,
      "outputs": [
        {
          "output_type": "stream",
          "name": "stdout",
          "text": [
            "87\n",
            "26\n",
            "61\n",
            "80\n",
            "24\n",
            "56\n",
            "80\n",
            "24\n",
            "56\n",
            "112\n",
            "33\n",
            "79\n"
          ]
        }
      ]
    },
    {
      "cell_type": "code",
      "source": [
        "total =  [104, 105, 106, 107, 108, 109, 110, 111, 112, 113, 114, 115, 144, 145, 146, 147, 154, 155, 156, 157, 158, 159, 500, 501, 502, 503, 504, 505, 506, 507, 508, 509, 510, 511, 512, 513, 514, 515, 516, 517, 518, 519, 520, 521, 522, 523, 524, 525, 526, 527, 528, 529, 530, 531, 532, 533, 534, 535, 620, 621, 622, 623, 624, 625, 626, 627, 628, 629, 630, 649, 650, 651, 652, 653, 654, 655, 656, 657, 658, 659, 660, 661, 662, 663, 664, 665, 666]\n",
        "test =  [501, 105, 535, 628, 144, 626, 525, 157, 531, 621, 115, 158, 519, 655, 526, 159, 508, 534, 522, 623, 662, 144, 530, 621, 663, 110]\n",
        "train =  [512, 513, 514, 515, 516, 517, 518, 519, 520, 521, 522, 523, 524, 525, 526, 527, 528, 529, 530, 531, 532, 533, 534, 535, 662, 110, 111, 104, 105, 106, 107, 108, 109, 620, 621, 622, 623, 624, 625, 626, 627, 628, 629, 630, 112, 113, 114, 115, 649, 650, 651, 652, 653, 654, 655, 144, 145, 146, 147, 656, 657, 658, 659, 660, 661, 154, 155, 156, 157, 158, 159, 663, 664, 665, 666, 500, 501, 502, 503, 504, 505, 506, 507, 508, 509, 510, 511]\n",
        "\n",
        "train = list(set(total) - set(test))\n",
        "print(len(total))\n",
        "print(len(train))\n",
        "print(len(test))\n",
        "\n",
        "\n"
      ],
      "metadata": {
        "colab": {
          "base_uri": "https://localhost:8080/"
        },
        "id": "C_1g_Hif32tt",
        "outputId": "d79a46d2-a928-4e3a-c8ca-42d04e45acd0"
      },
      "execution_count": 243,
      "outputs": [
        {
          "output_type": "stream",
          "name": "stdout",
          "text": [
            "87\n",
            "63\n",
            "26\n"
          ]
        }
      ]
    },
    {
      "cell_type": "markdown",
      "source": [
        "# Treinamento (executar a partir daqui)"
      ],
      "metadata": {
        "id": "UOvuZK7FOfNz"
      }
    },
    {
      "cell_type": "code",
      "source": [
        "#Ler dados de Treinamento\n",
        "from google.colab import drive\n",
        "diretorio_google = '/content/drive'\n",
        "drive.mount(diretorio_google, True)\n",
        "\n",
        "import time as tm ###\n",
        "start = tm.time()\n",
        "\n",
        "import numpy as np\n",
        "import pandas as pd\n",
        "\n",
        "from pathlib import Path  \n",
        "# filepath = Path(diretorio_google + \"/MyDrive\" + \"/data2.csv\")  \n",
        "filepath = Path(diretorio_google + \"/MyDrive/Jordana\" + \"/data_MFCC_n_mfcc_13_100_words.csv\")  \n",
        "dados_salvos = pd.read_csv(filepath)\n",
        "speech_labels_list = dados_salvos['label']\n",
        "\n",
        "# Separar dados de treinamento\n",
        "from sklearn.model_selection import train_test_split ###\n",
        "X_train, X_test_ret, y_train, y_test_ret = tran_test_split(dados_salvos, speech_labels_list, test_size=0.3)\n",
        "\n",
        "X_test_ret['label'] = np.zeros((len(X_test_ret)))\n",
        "\n",
        "end = tm.time()\n",
        "print(\"✅ Concluído. Execução: {} segundos.\".format(round(end-start,2)))  "
      ],
      "metadata": {
        "id": "cJ-Ufn6yNOLp",
        "colab": {
          "base_uri": "https://localhost:8080/"
        },
        "outputId": "ae35e520-5fe3-41d9-81df-e04f28ea0ecd"
      },
      "execution_count": null,
      "outputs": [
        {
          "output_type": "stream",
          "name": "stdout",
          "text": [
            "Mounted at /content/drive\n",
            "✅ Concluído. Execução: 0.04 segundos.\n"
          ]
        }
      ]
    },
    {
      "cell_type": "code",
      "source": [
        "#print(len(X_test_ret))\n",
        "#print(len(y_test_ret))\n",
        "#print(len(X_train))\n",
        "#print(len(y_train))\n",
        "#print(len(dados_salvos))\n",
        "\n",
        "X_test_ret.head()\n"
      ],
      "metadata": {
        "id": "c-6FGibinK8I",
        "colab": {
          "base_uri": "https://localhost:8080/",
          "height": 317
        },
        "outputId": "1dbd02ed-218b-4bc1-9ae1-8b0e351433f4"
      },
      "execution_count": null,
      "outputs": [
        {
          "output_type": "execute_result",
          "data": {
            "text/plain": [
              "     Unnamed: 0          0           1          2          3          4  \\\n",
              "944         944 -319.78290   78.939460  -6.172861  27.350897  -7.992208   \n",
              "485         485 -364.96810   77.850660 -11.531562  22.408007 -12.001014   \n",
              "766         766 -220.11488  119.976770 -40.262775  60.182457 -30.003897   \n",
              "682         682 -253.19144  134.855510 -38.881344  51.032696 -26.738626   \n",
              "384         384 -276.18448  109.070404 -11.880627  40.495872  -7.081267   \n",
              "\n",
              "             5          6          7         8  ...         70         71  \\\n",
              "944  12.848290 -16.135126   2.491023 -2.340694  ...   3.497679 -75.363940   \n",
              "485  17.961935 -12.207298   4.709507  6.809086  ...   3.105380 -90.393560   \n",
              "766  23.736572 -23.552206  18.821482 -5.023897  ... -12.104401 -56.764220   \n",
              "682  16.723960 -29.077408   5.708239 -6.203660  ...  -4.114003 -58.277153   \n",
              "384  20.819672 -16.502771  10.383740  0.499688  ... -13.226337 -49.618760   \n",
              "\n",
              "            72         73         74         75         76         77  \\\n",
              "944 -20.578808 -31.800152 -24.985464 -47.733140 -43.053100 -12.240749   \n",
              "485 -45.551260 -11.713304 -12.759370 -28.649360 -35.062973 -10.245575   \n",
              "766  10.273451 -31.627920 -21.650509  -3.830486 -21.924648 -11.597067   \n",
              "682 -24.579151 -19.489220  -7.334798 -28.277822 -24.798512  -5.383975   \n",
              "384 -13.938387 -25.490181 -31.596740 -27.154165 -40.069424 -15.411752   \n",
              "\n",
              "                                                 fname        label  \n",
              "944  /content/drive/MyDrive/Jordana/juntos/a/M07_B3...            a  \n",
              "485  /content/drive/MyDrive/Jordana/juntos/abbrevia...  abbreviated  \n",
              "766  /content/drive/MyDrive/Jordana/juntos/a/CF03_B...            a  \n",
              "682  /content/drive/MyDrive/Jordana/juntos/a/CM09_B...            a  \n",
              "384  /content/drive/MyDrive/Jordana/juntos/abbrevia...  abbreviated  \n",
              "\n",
              "[5 rows x 81 columns]"
            ],
            "text/html": [
              "\n",
              "  <div id=\"df-03656413-c062-4110-97ed-cd94af987e1a\">\n",
              "    <div class=\"colab-df-container\">\n",
              "      <div>\n",
              "<style scoped>\n",
              "    .dataframe tbody tr th:only-of-type {\n",
              "        vertical-align: middle;\n",
              "    }\n",
              "\n",
              "    .dataframe tbody tr th {\n",
              "        vertical-align: top;\n",
              "    }\n",
              "\n",
              "    .dataframe thead th {\n",
              "        text-align: right;\n",
              "    }\n",
              "</style>\n",
              "<table border=\"1\" class=\"dataframe\">\n",
              "  <thead>\n",
              "    <tr style=\"text-align: right;\">\n",
              "      <th></th>\n",
              "      <th>Unnamed: 0</th>\n",
              "      <th>0</th>\n",
              "      <th>1</th>\n",
              "      <th>2</th>\n",
              "      <th>3</th>\n",
              "      <th>4</th>\n",
              "      <th>5</th>\n",
              "      <th>6</th>\n",
              "      <th>7</th>\n",
              "      <th>8</th>\n",
              "      <th>...</th>\n",
              "      <th>70</th>\n",
              "      <th>71</th>\n",
              "      <th>72</th>\n",
              "      <th>73</th>\n",
              "      <th>74</th>\n",
              "      <th>75</th>\n",
              "      <th>76</th>\n",
              "      <th>77</th>\n",
              "      <th>fname</th>\n",
              "      <th>label</th>\n",
              "    </tr>\n",
              "  </thead>\n",
              "  <tbody>\n",
              "    <tr>\n",
              "      <th>944</th>\n",
              "      <td>944</td>\n",
              "      <td>-319.78290</td>\n",
              "      <td>78.939460</td>\n",
              "      <td>-6.172861</td>\n",
              "      <td>27.350897</td>\n",
              "      <td>-7.992208</td>\n",
              "      <td>12.848290</td>\n",
              "      <td>-16.135126</td>\n",
              "      <td>2.491023</td>\n",
              "      <td>-2.340694</td>\n",
              "      <td>...</td>\n",
              "      <td>3.497679</td>\n",
              "      <td>-75.363940</td>\n",
              "      <td>-20.578808</td>\n",
              "      <td>-31.800152</td>\n",
              "      <td>-24.985464</td>\n",
              "      <td>-47.733140</td>\n",
              "      <td>-43.053100</td>\n",
              "      <td>-12.240749</td>\n",
              "      <td>/content/drive/MyDrive/Jordana/juntos/a/M07_B3...</td>\n",
              "      <td>a</td>\n",
              "    </tr>\n",
              "    <tr>\n",
              "      <th>485</th>\n",
              "      <td>485</td>\n",
              "      <td>-364.96810</td>\n",
              "      <td>77.850660</td>\n",
              "      <td>-11.531562</td>\n",
              "      <td>22.408007</td>\n",
              "      <td>-12.001014</td>\n",
              "      <td>17.961935</td>\n",
              "      <td>-12.207298</td>\n",
              "      <td>4.709507</td>\n",
              "      <td>6.809086</td>\n",
              "      <td>...</td>\n",
              "      <td>3.105380</td>\n",
              "      <td>-90.393560</td>\n",
              "      <td>-45.551260</td>\n",
              "      <td>-11.713304</td>\n",
              "      <td>-12.759370</td>\n",
              "      <td>-28.649360</td>\n",
              "      <td>-35.062973</td>\n",
              "      <td>-10.245575</td>\n",
              "      <td>/content/drive/MyDrive/Jordana/juntos/abbrevia...</td>\n",
              "      <td>abbreviated</td>\n",
              "    </tr>\n",
              "    <tr>\n",
              "      <th>766</th>\n",
              "      <td>766</td>\n",
              "      <td>-220.11488</td>\n",
              "      <td>119.976770</td>\n",
              "      <td>-40.262775</td>\n",
              "      <td>60.182457</td>\n",
              "      <td>-30.003897</td>\n",
              "      <td>23.736572</td>\n",
              "      <td>-23.552206</td>\n",
              "      <td>18.821482</td>\n",
              "      <td>-5.023897</td>\n",
              "      <td>...</td>\n",
              "      <td>-12.104401</td>\n",
              "      <td>-56.764220</td>\n",
              "      <td>10.273451</td>\n",
              "      <td>-31.627920</td>\n",
              "      <td>-21.650509</td>\n",
              "      <td>-3.830486</td>\n",
              "      <td>-21.924648</td>\n",
              "      <td>-11.597067</td>\n",
              "      <td>/content/drive/MyDrive/Jordana/juntos/a/CF03_B...</td>\n",
              "      <td>a</td>\n",
              "    </tr>\n",
              "    <tr>\n",
              "      <th>682</th>\n",
              "      <td>682</td>\n",
              "      <td>-253.19144</td>\n",
              "      <td>134.855510</td>\n",
              "      <td>-38.881344</td>\n",
              "      <td>51.032696</td>\n",
              "      <td>-26.738626</td>\n",
              "      <td>16.723960</td>\n",
              "      <td>-29.077408</td>\n",
              "      <td>5.708239</td>\n",
              "      <td>-6.203660</td>\n",
              "      <td>...</td>\n",
              "      <td>-4.114003</td>\n",
              "      <td>-58.277153</td>\n",
              "      <td>-24.579151</td>\n",
              "      <td>-19.489220</td>\n",
              "      <td>-7.334798</td>\n",
              "      <td>-28.277822</td>\n",
              "      <td>-24.798512</td>\n",
              "      <td>-5.383975</td>\n",
              "      <td>/content/drive/MyDrive/Jordana/juntos/a/CM09_B...</td>\n",
              "      <td>a</td>\n",
              "    </tr>\n",
              "    <tr>\n",
              "      <th>384</th>\n",
              "      <td>384</td>\n",
              "      <td>-276.18448</td>\n",
              "      <td>109.070404</td>\n",
              "      <td>-11.880627</td>\n",
              "      <td>40.495872</td>\n",
              "      <td>-7.081267</td>\n",
              "      <td>20.819672</td>\n",
              "      <td>-16.502771</td>\n",
              "      <td>10.383740</td>\n",
              "      <td>0.499688</td>\n",
              "      <td>...</td>\n",
              "      <td>-13.226337</td>\n",
              "      <td>-49.618760</td>\n",
              "      <td>-13.938387</td>\n",
              "      <td>-25.490181</td>\n",
              "      <td>-31.596740</td>\n",
              "      <td>-27.154165</td>\n",
              "      <td>-40.069424</td>\n",
              "      <td>-15.411752</td>\n",
              "      <td>/content/drive/MyDrive/Jordana/juntos/abbrevia...</td>\n",
              "      <td>abbreviated</td>\n",
              "    </tr>\n",
              "  </tbody>\n",
              "</table>\n",
              "<p>5 rows × 81 columns</p>\n",
              "</div>\n",
              "      <button class=\"colab-df-convert\" onclick=\"convertToInteractive('df-03656413-c062-4110-97ed-cd94af987e1a')\"\n",
              "              title=\"Convert this dataframe to an interactive table.\"\n",
              "              style=\"display:none;\">\n",
              "        \n",
              "  <svg xmlns=\"http://www.w3.org/2000/svg\" height=\"24px\"viewBox=\"0 0 24 24\"\n",
              "       width=\"24px\">\n",
              "    <path d=\"M0 0h24v24H0V0z\" fill=\"none\"/>\n",
              "    <path d=\"M18.56 5.44l.94 2.06.94-2.06 2.06-.94-2.06-.94-.94-2.06-.94 2.06-2.06.94zm-11 1L8.5 8.5l.94-2.06 2.06-.94-2.06-.94L8.5 2.5l-.94 2.06-2.06.94zm10 10l.94 2.06.94-2.06 2.06-.94-2.06-.94-.94-2.06-.94 2.06-2.06.94z\"/><path d=\"M17.41 7.96l-1.37-1.37c-.4-.4-.92-.59-1.43-.59-.52 0-1.04.2-1.43.59L10.3 9.45l-7.72 7.72c-.78.78-.78 2.05 0 2.83L4 21.41c.39.39.9.59 1.41.59.51 0 1.02-.2 1.41-.59l7.78-7.78 2.81-2.81c.8-.78.8-2.07 0-2.86zM5.41 20L4 18.59l7.72-7.72 1.47 1.35L5.41 20z\"/>\n",
              "  </svg>\n",
              "      </button>\n",
              "      \n",
              "  <style>\n",
              "    .colab-df-container {\n",
              "      display:flex;\n",
              "      flex-wrap:wrap;\n",
              "      gap: 12px;\n",
              "    }\n",
              "\n",
              "    .colab-df-convert {\n",
              "      background-color: #E8F0FE;\n",
              "      border: none;\n",
              "      border-radius: 50%;\n",
              "      cursor: pointer;\n",
              "      display: none;\n",
              "      fill: #1967D2;\n",
              "      height: 32px;\n",
              "      padding: 0 0 0 0;\n",
              "      width: 32px;\n",
              "    }\n",
              "\n",
              "    .colab-df-convert:hover {\n",
              "      background-color: #E2EBFA;\n",
              "      box-shadow: 0px 1px 2px rgba(60, 64, 67, 0.3), 0px 1px 3px 1px rgba(60, 64, 67, 0.15);\n",
              "      fill: #174EA6;\n",
              "    }\n",
              "\n",
              "    [theme=dark] .colab-df-convert {\n",
              "      background-color: #3B4455;\n",
              "      fill: #D2E3FC;\n",
              "    }\n",
              "\n",
              "    [theme=dark] .colab-df-convert:hover {\n",
              "      background-color: #434B5C;\n",
              "      box-shadow: 0px 1px 3px 1px rgba(0, 0, 0, 0.15);\n",
              "      filter: drop-shadow(0px 1px 2px rgba(0, 0, 0, 0.3));\n",
              "      fill: #FFFFFF;\n",
              "    }\n",
              "  </style>\n",
              "\n",
              "      <script>\n",
              "        const buttonEl =\n",
              "          document.querySelector('#df-03656413-c062-4110-97ed-cd94af987e1a button.colab-df-convert');\n",
              "        buttonEl.style.display =\n",
              "          google.colab.kernel.accessAllowed ? 'block' : 'none';\n",
              "\n",
              "        async function convertToInteractive(key) {\n",
              "          const element = document.querySelector('#df-03656413-c062-4110-97ed-cd94af987e1a');\n",
              "          const dataTable =\n",
              "            await google.colab.kernel.invokeFunction('convertToInteractive',\n",
              "                                                     [key], {});\n",
              "          if (!dataTable) return;\n",
              "\n",
              "          const docLinkHtml = 'Like what you see? Visit the ' +\n",
              "            '<a target=\"_blank\" href=https://colab.research.google.com/notebooks/data_table.ipynb>data table notebook</a>'\n",
              "            + ' to learn more about interactive tables.';\n",
              "          element.innerHTML = '';\n",
              "          dataTable['output_type'] = 'display_data';\n",
              "          await google.colab.output.renderOutput(dataTable, element);\n",
              "          const docLink = document.createElement('div');\n",
              "          docLink.innerHTML = docLinkHtml;\n",
              "          element.appendChild(docLink);\n",
              "        }\n",
              "      </script>\n",
              "    </div>\n",
              "  </div>\n",
              "  "
            ]
          },
          "metadata": {},
          "execution_count": 52
        }
      ]
    },
    {
      "cell_type": "code",
      "source": [
        "y_test_ret.head()\n"
      ],
      "metadata": {
        "colab": {
          "base_uri": "https://localhost:8080/"
        },
        "id": "Ce1DN3GkWu0l",
        "outputId": "c385298a-1c7d-4f88-b33b-b5cf56d8c6eb"
      },
      "execution_count": null,
      "outputs": [
        {
          "output_type": "execute_result",
          "data": {
            "text/plain": [
              "86      ablutions\n",
              "1073            a\n",
              "785             a\n",
              "833             a\n",
              "1008            a\n",
              "Name: label, dtype: object"
            ]
          },
          "metadata": {},
          "execution_count": 53
        }
      ]
    },
    {
      "cell_type": "code",
      "source": [
        "X_train.head()\n"
      ],
      "metadata": {
        "colab": {
          "base_uri": "https://localhost:8080/",
          "height": 317
        },
        "id": "6QxqJpzMWyF4",
        "outputId": "50ee66ed-c675-4afc-f270-a8a51b202793"
      },
      "execution_count": null,
      "outputs": [
        {
          "output_type": "execute_result",
          "data": {
            "text/plain": [
              "     Unnamed: 0          0           1          2          3          4  \\\n",
              "944         944 -319.78290   78.939460  -6.172861  27.350897  -7.992208   \n",
              "485         485 -364.96810   77.850660 -11.531562  22.408007 -12.001014   \n",
              "766         766 -220.11488  119.976770 -40.262775  60.182457 -30.003897   \n",
              "682         682 -253.19144  134.855510 -38.881344  51.032696 -26.738626   \n",
              "384         384 -276.18448  109.070404 -11.880627  40.495872  -7.081267   \n",
              "\n",
              "             5          6          7         8  ...         70         71  \\\n",
              "944  12.848290 -16.135126   2.491023 -2.340694  ...   3.497679 -75.363940   \n",
              "485  17.961935 -12.207298   4.709507  6.809086  ...   3.105380 -90.393560   \n",
              "766  23.736572 -23.552206  18.821482 -5.023897  ... -12.104401 -56.764220   \n",
              "682  16.723960 -29.077408   5.708239 -6.203660  ...  -4.114003 -58.277153   \n",
              "384  20.819672 -16.502771  10.383740  0.499688  ... -13.226337 -49.618760   \n",
              "\n",
              "            72         73         74         75         76         77  \\\n",
              "944 -20.578808 -31.800152 -24.985464 -47.733140 -43.053100 -12.240749   \n",
              "485 -45.551260 -11.713304 -12.759370 -28.649360 -35.062973 -10.245575   \n",
              "766  10.273451 -31.627920 -21.650509  -3.830486 -21.924648 -11.597067   \n",
              "682 -24.579151 -19.489220  -7.334798 -28.277822 -24.798512  -5.383975   \n",
              "384 -13.938387 -25.490181 -31.596740 -27.154165 -40.069424 -15.411752   \n",
              "\n",
              "                                                 fname        label  \n",
              "944  /content/drive/MyDrive/Jordana/juntos/a/M07_B3...            a  \n",
              "485  /content/drive/MyDrive/Jordana/juntos/abbrevia...  abbreviated  \n",
              "766  /content/drive/MyDrive/Jordana/juntos/a/CF03_B...            a  \n",
              "682  /content/drive/MyDrive/Jordana/juntos/a/CM09_B...            a  \n",
              "384  /content/drive/MyDrive/Jordana/juntos/abbrevia...  abbreviated  \n",
              "\n",
              "[5 rows x 81 columns]"
            ],
            "text/html": [
              "\n",
              "  <div id=\"df-ad6fc52e-6e15-41d7-a7f6-9cee28a26c97\">\n",
              "    <div class=\"colab-df-container\">\n",
              "      <div>\n",
              "<style scoped>\n",
              "    .dataframe tbody tr th:only-of-type {\n",
              "        vertical-align: middle;\n",
              "    }\n",
              "\n",
              "    .dataframe tbody tr th {\n",
              "        vertical-align: top;\n",
              "    }\n",
              "\n",
              "    .dataframe thead th {\n",
              "        text-align: right;\n",
              "    }\n",
              "</style>\n",
              "<table border=\"1\" class=\"dataframe\">\n",
              "  <thead>\n",
              "    <tr style=\"text-align: right;\">\n",
              "      <th></th>\n",
              "      <th>Unnamed: 0</th>\n",
              "      <th>0</th>\n",
              "      <th>1</th>\n",
              "      <th>2</th>\n",
              "      <th>3</th>\n",
              "      <th>4</th>\n",
              "      <th>5</th>\n",
              "      <th>6</th>\n",
              "      <th>7</th>\n",
              "      <th>8</th>\n",
              "      <th>...</th>\n",
              "      <th>70</th>\n",
              "      <th>71</th>\n",
              "      <th>72</th>\n",
              "      <th>73</th>\n",
              "      <th>74</th>\n",
              "      <th>75</th>\n",
              "      <th>76</th>\n",
              "      <th>77</th>\n",
              "      <th>fname</th>\n",
              "      <th>label</th>\n",
              "    </tr>\n",
              "  </thead>\n",
              "  <tbody>\n",
              "    <tr>\n",
              "      <th>944</th>\n",
              "      <td>944</td>\n",
              "      <td>-319.78290</td>\n",
              "      <td>78.939460</td>\n",
              "      <td>-6.172861</td>\n",
              "      <td>27.350897</td>\n",
              "      <td>-7.992208</td>\n",
              "      <td>12.848290</td>\n",
              "      <td>-16.135126</td>\n",
              "      <td>2.491023</td>\n",
              "      <td>-2.340694</td>\n",
              "      <td>...</td>\n",
              "      <td>3.497679</td>\n",
              "      <td>-75.363940</td>\n",
              "      <td>-20.578808</td>\n",
              "      <td>-31.800152</td>\n",
              "      <td>-24.985464</td>\n",
              "      <td>-47.733140</td>\n",
              "      <td>-43.053100</td>\n",
              "      <td>-12.240749</td>\n",
              "      <td>/content/drive/MyDrive/Jordana/juntos/a/M07_B3...</td>\n",
              "      <td>a</td>\n",
              "    </tr>\n",
              "    <tr>\n",
              "      <th>485</th>\n",
              "      <td>485</td>\n",
              "      <td>-364.96810</td>\n",
              "      <td>77.850660</td>\n",
              "      <td>-11.531562</td>\n",
              "      <td>22.408007</td>\n",
              "      <td>-12.001014</td>\n",
              "      <td>17.961935</td>\n",
              "      <td>-12.207298</td>\n",
              "      <td>4.709507</td>\n",
              "      <td>6.809086</td>\n",
              "      <td>...</td>\n",
              "      <td>3.105380</td>\n",
              "      <td>-90.393560</td>\n",
              "      <td>-45.551260</td>\n",
              "      <td>-11.713304</td>\n",
              "      <td>-12.759370</td>\n",
              "      <td>-28.649360</td>\n",
              "      <td>-35.062973</td>\n",
              "      <td>-10.245575</td>\n",
              "      <td>/content/drive/MyDrive/Jordana/juntos/abbrevia...</td>\n",
              "      <td>abbreviated</td>\n",
              "    </tr>\n",
              "    <tr>\n",
              "      <th>766</th>\n",
              "      <td>766</td>\n",
              "      <td>-220.11488</td>\n",
              "      <td>119.976770</td>\n",
              "      <td>-40.262775</td>\n",
              "      <td>60.182457</td>\n",
              "      <td>-30.003897</td>\n",
              "      <td>23.736572</td>\n",
              "      <td>-23.552206</td>\n",
              "      <td>18.821482</td>\n",
              "      <td>-5.023897</td>\n",
              "      <td>...</td>\n",
              "      <td>-12.104401</td>\n",
              "      <td>-56.764220</td>\n",
              "      <td>10.273451</td>\n",
              "      <td>-31.627920</td>\n",
              "      <td>-21.650509</td>\n",
              "      <td>-3.830486</td>\n",
              "      <td>-21.924648</td>\n",
              "      <td>-11.597067</td>\n",
              "      <td>/content/drive/MyDrive/Jordana/juntos/a/CF03_B...</td>\n",
              "      <td>a</td>\n",
              "    </tr>\n",
              "    <tr>\n",
              "      <th>682</th>\n",
              "      <td>682</td>\n",
              "      <td>-253.19144</td>\n",
              "      <td>134.855510</td>\n",
              "      <td>-38.881344</td>\n",
              "      <td>51.032696</td>\n",
              "      <td>-26.738626</td>\n",
              "      <td>16.723960</td>\n",
              "      <td>-29.077408</td>\n",
              "      <td>5.708239</td>\n",
              "      <td>-6.203660</td>\n",
              "      <td>...</td>\n",
              "      <td>-4.114003</td>\n",
              "      <td>-58.277153</td>\n",
              "      <td>-24.579151</td>\n",
              "      <td>-19.489220</td>\n",
              "      <td>-7.334798</td>\n",
              "      <td>-28.277822</td>\n",
              "      <td>-24.798512</td>\n",
              "      <td>-5.383975</td>\n",
              "      <td>/content/drive/MyDrive/Jordana/juntos/a/CM09_B...</td>\n",
              "      <td>a</td>\n",
              "    </tr>\n",
              "    <tr>\n",
              "      <th>384</th>\n",
              "      <td>384</td>\n",
              "      <td>-276.18448</td>\n",
              "      <td>109.070404</td>\n",
              "      <td>-11.880627</td>\n",
              "      <td>40.495872</td>\n",
              "      <td>-7.081267</td>\n",
              "      <td>20.819672</td>\n",
              "      <td>-16.502771</td>\n",
              "      <td>10.383740</td>\n",
              "      <td>0.499688</td>\n",
              "      <td>...</td>\n",
              "      <td>-13.226337</td>\n",
              "      <td>-49.618760</td>\n",
              "      <td>-13.938387</td>\n",
              "      <td>-25.490181</td>\n",
              "      <td>-31.596740</td>\n",
              "      <td>-27.154165</td>\n",
              "      <td>-40.069424</td>\n",
              "      <td>-15.411752</td>\n",
              "      <td>/content/drive/MyDrive/Jordana/juntos/abbrevia...</td>\n",
              "      <td>abbreviated</td>\n",
              "    </tr>\n",
              "  </tbody>\n",
              "</table>\n",
              "<p>5 rows × 81 columns</p>\n",
              "</div>\n",
              "      <button class=\"colab-df-convert\" onclick=\"convertToInteractive('df-ad6fc52e-6e15-41d7-a7f6-9cee28a26c97')\"\n",
              "              title=\"Convert this dataframe to an interactive table.\"\n",
              "              style=\"display:none;\">\n",
              "        \n",
              "  <svg xmlns=\"http://www.w3.org/2000/svg\" height=\"24px\"viewBox=\"0 0 24 24\"\n",
              "       width=\"24px\">\n",
              "    <path d=\"M0 0h24v24H0V0z\" fill=\"none\"/>\n",
              "    <path d=\"M18.56 5.44l.94 2.06.94-2.06 2.06-.94-2.06-.94-.94-2.06-.94 2.06-2.06.94zm-11 1L8.5 8.5l.94-2.06 2.06-.94-2.06-.94L8.5 2.5l-.94 2.06-2.06.94zm10 10l.94 2.06.94-2.06 2.06-.94-2.06-.94-.94-2.06-.94 2.06-2.06.94z\"/><path d=\"M17.41 7.96l-1.37-1.37c-.4-.4-.92-.59-1.43-.59-.52 0-1.04.2-1.43.59L10.3 9.45l-7.72 7.72c-.78.78-.78 2.05 0 2.83L4 21.41c.39.39.9.59 1.41.59.51 0 1.02-.2 1.41-.59l7.78-7.78 2.81-2.81c.8-.78.8-2.07 0-2.86zM5.41 20L4 18.59l7.72-7.72 1.47 1.35L5.41 20z\"/>\n",
              "  </svg>\n",
              "      </button>\n",
              "      \n",
              "  <style>\n",
              "    .colab-df-container {\n",
              "      display:flex;\n",
              "      flex-wrap:wrap;\n",
              "      gap: 12px;\n",
              "    }\n",
              "\n",
              "    .colab-df-convert {\n",
              "      background-color: #E8F0FE;\n",
              "      border: none;\n",
              "      border-radius: 50%;\n",
              "      cursor: pointer;\n",
              "      display: none;\n",
              "      fill: #1967D2;\n",
              "      height: 32px;\n",
              "      padding: 0 0 0 0;\n",
              "      width: 32px;\n",
              "    }\n",
              "\n",
              "    .colab-df-convert:hover {\n",
              "      background-color: #E2EBFA;\n",
              "      box-shadow: 0px 1px 2px rgba(60, 64, 67, 0.3), 0px 1px 3px 1px rgba(60, 64, 67, 0.15);\n",
              "      fill: #174EA6;\n",
              "    }\n",
              "\n",
              "    [theme=dark] .colab-df-convert {\n",
              "      background-color: #3B4455;\n",
              "      fill: #D2E3FC;\n",
              "    }\n",
              "\n",
              "    [theme=dark] .colab-df-convert:hover {\n",
              "      background-color: #434B5C;\n",
              "      box-shadow: 0px 1px 3px 1px rgba(0, 0, 0, 0.15);\n",
              "      filter: drop-shadow(0px 1px 2px rgba(0, 0, 0, 0.3));\n",
              "      fill: #FFFFFF;\n",
              "    }\n",
              "  </style>\n",
              "\n",
              "      <script>\n",
              "        const buttonEl =\n",
              "          document.querySelector('#df-ad6fc52e-6e15-41d7-a7f6-9cee28a26c97 button.colab-df-convert');\n",
              "        buttonEl.style.display =\n",
              "          google.colab.kernel.accessAllowed ? 'block' : 'none';\n",
              "\n",
              "        async function convertToInteractive(key) {\n",
              "          const element = document.querySelector('#df-ad6fc52e-6e15-41d7-a7f6-9cee28a26c97');\n",
              "          const dataTable =\n",
              "            await google.colab.kernel.invokeFunction('convertToInteractive',\n",
              "                                                     [key], {});\n",
              "          if (!dataTable) return;\n",
              "\n",
              "          const docLinkHtml = 'Like what you see? Visit the ' +\n",
              "            '<a target=\"_blank\" href=https://colab.research.google.com/notebooks/data_table.ipynb>data table notebook</a>'\n",
              "            + ' to learn more about interactive tables.';\n",
              "          element.innerHTML = '';\n",
              "          dataTable['output_type'] = 'display_data';\n",
              "          await google.colab.output.renderOutput(dataTable, element);\n",
              "          const docLink = document.createElement('div');\n",
              "          docLink.innerHTML = docLinkHtml;\n",
              "          element.appendChild(docLink);\n",
              "        }\n",
              "      </script>\n",
              "    </div>\n",
              "  </div>\n",
              "  "
            ]
          },
          "metadata": {},
          "execution_count": 54
        }
      ]
    },
    {
      "cell_type": "code",
      "source": [
        "y_train.head()\n"
      ],
      "metadata": {
        "colab": {
          "base_uri": "https://localhost:8080/"
        },
        "id": "QOC70LTgWzs3",
        "outputId": "f81e4e7e-9e46-4c8c-9f8b-28cd0f92d23e"
      },
      "execution_count": null,
      "outputs": [
        {
          "output_type": "execute_result",
          "data": {
            "text/plain": [
              "944              a\n",
              "485    abbreviated\n",
              "766              a\n",
              "682              a\n",
              "384    abbreviated\n",
              "Name: label, dtype: object"
            ]
          },
          "metadata": {},
          "execution_count": 55
        }
      ]
    },
    {
      "cell_type": "code",
      "source": [
        "dados_salvos.head()"
      ],
      "metadata": {
        "id": "JvIJu_Mplp0-",
        "colab": {
          "base_uri": "https://localhost:8080/",
          "height": 317
        },
        "outputId": "544be6f4-ef78-4e86-c75f-02255136abb3"
      },
      "execution_count": null,
      "outputs": [
        {
          "output_type": "execute_result",
          "data": {
            "text/plain": [
              "   Unnamed: 0          0           1          2          3          4  \\\n",
              "0           0 -284.51654  109.804080 -20.052002  46.220806 -22.507853   \n",
              "1           1 -253.73540   99.120964 -24.944946  43.291313 -26.800724   \n",
              "2           2 -291.35690  106.846756 -21.400621  42.097416 -24.925630   \n",
              "3           3 -279.37155  110.063730 -17.676710  42.614845 -26.099669   \n",
              "4           4 -270.47635  103.757880 -26.422823  43.917908 -30.247402   \n",
              "\n",
              "           5          6         7         8  ...         70         71  \\\n",
              "0  22.496798 -17.022827  7.816305 -5.731149  ... -14.040611 -48.413810   \n",
              "1  22.656199 -19.176310  4.444905 -5.883896  ... -16.789920 -48.717297   \n",
              "2  19.372028 -16.775360  4.743111 -7.020422  ... -14.391495 -50.363440   \n",
              "3  15.036302 -21.356310  2.286207 -7.712019  ... -14.623730 -50.749344   \n",
              "4  18.331694 -24.953753  4.890441 -8.592377  ... -17.330420 -56.073875   \n",
              "\n",
              "          72         73         74         75         76         77  \\\n",
              "0 -23.811749 -48.777510 -27.102077 -13.966583 -26.538834 -10.750492   \n",
              "1 -31.152464 -47.389923 -23.566300 -21.264645 -23.211437  -8.914650   \n",
              "2 -26.362812 -53.292490 -28.547329 -18.084171 -27.650131 -13.178939   \n",
              "3 -30.965221 -54.163425 -25.900440 -16.709057 -27.285984 -13.047300   \n",
              "4 -26.563236 -47.959644 -30.493471 -19.822690 -30.116833 -15.205853   \n",
              "\n",
              "                                               fname      label  \n",
              "0  /content/drive/MyDrive/Jordana/juntos/ablution...  ablutions  \n",
              "1  /content/drive/MyDrive/Jordana/juntos/ablution...  ablutions  \n",
              "2  /content/drive/MyDrive/Jordana/juntos/ablution...  ablutions  \n",
              "3  /content/drive/MyDrive/Jordana/juntos/ablution...  ablutions  \n",
              "4  /content/drive/MyDrive/Jordana/juntos/ablution...  ablutions  \n",
              "\n",
              "[5 rows x 81 columns]"
            ],
            "text/html": [
              "\n",
              "  <div id=\"df-3bf67898-64ae-4c41-855c-21c4b43452f6\">\n",
              "    <div class=\"colab-df-container\">\n",
              "      <div>\n",
              "<style scoped>\n",
              "    .dataframe tbody tr th:only-of-type {\n",
              "        vertical-align: middle;\n",
              "    }\n",
              "\n",
              "    .dataframe tbody tr th {\n",
              "        vertical-align: top;\n",
              "    }\n",
              "\n",
              "    .dataframe thead th {\n",
              "        text-align: right;\n",
              "    }\n",
              "</style>\n",
              "<table border=\"1\" class=\"dataframe\">\n",
              "  <thead>\n",
              "    <tr style=\"text-align: right;\">\n",
              "      <th></th>\n",
              "      <th>Unnamed: 0</th>\n",
              "      <th>0</th>\n",
              "      <th>1</th>\n",
              "      <th>2</th>\n",
              "      <th>3</th>\n",
              "      <th>4</th>\n",
              "      <th>5</th>\n",
              "      <th>6</th>\n",
              "      <th>7</th>\n",
              "      <th>8</th>\n",
              "      <th>...</th>\n",
              "      <th>70</th>\n",
              "      <th>71</th>\n",
              "      <th>72</th>\n",
              "      <th>73</th>\n",
              "      <th>74</th>\n",
              "      <th>75</th>\n",
              "      <th>76</th>\n",
              "      <th>77</th>\n",
              "      <th>fname</th>\n",
              "      <th>label</th>\n",
              "    </tr>\n",
              "  </thead>\n",
              "  <tbody>\n",
              "    <tr>\n",
              "      <th>0</th>\n",
              "      <td>0</td>\n",
              "      <td>-284.51654</td>\n",
              "      <td>109.804080</td>\n",
              "      <td>-20.052002</td>\n",
              "      <td>46.220806</td>\n",
              "      <td>-22.507853</td>\n",
              "      <td>22.496798</td>\n",
              "      <td>-17.022827</td>\n",
              "      <td>7.816305</td>\n",
              "      <td>-5.731149</td>\n",
              "      <td>...</td>\n",
              "      <td>-14.040611</td>\n",
              "      <td>-48.413810</td>\n",
              "      <td>-23.811749</td>\n",
              "      <td>-48.777510</td>\n",
              "      <td>-27.102077</td>\n",
              "      <td>-13.966583</td>\n",
              "      <td>-26.538834</td>\n",
              "      <td>-10.750492</td>\n",
              "      <td>/content/drive/MyDrive/Jordana/juntos/ablution...</td>\n",
              "      <td>ablutions</td>\n",
              "    </tr>\n",
              "    <tr>\n",
              "      <th>1</th>\n",
              "      <td>1</td>\n",
              "      <td>-253.73540</td>\n",
              "      <td>99.120964</td>\n",
              "      <td>-24.944946</td>\n",
              "      <td>43.291313</td>\n",
              "      <td>-26.800724</td>\n",
              "      <td>22.656199</td>\n",
              "      <td>-19.176310</td>\n",
              "      <td>4.444905</td>\n",
              "      <td>-5.883896</td>\n",
              "      <td>...</td>\n",
              "      <td>-16.789920</td>\n",
              "      <td>-48.717297</td>\n",
              "      <td>-31.152464</td>\n",
              "      <td>-47.389923</td>\n",
              "      <td>-23.566300</td>\n",
              "      <td>-21.264645</td>\n",
              "      <td>-23.211437</td>\n",
              "      <td>-8.914650</td>\n",
              "      <td>/content/drive/MyDrive/Jordana/juntos/ablution...</td>\n",
              "      <td>ablutions</td>\n",
              "    </tr>\n",
              "    <tr>\n",
              "      <th>2</th>\n",
              "      <td>2</td>\n",
              "      <td>-291.35690</td>\n",
              "      <td>106.846756</td>\n",
              "      <td>-21.400621</td>\n",
              "      <td>42.097416</td>\n",
              "      <td>-24.925630</td>\n",
              "      <td>19.372028</td>\n",
              "      <td>-16.775360</td>\n",
              "      <td>4.743111</td>\n",
              "      <td>-7.020422</td>\n",
              "      <td>...</td>\n",
              "      <td>-14.391495</td>\n",
              "      <td>-50.363440</td>\n",
              "      <td>-26.362812</td>\n",
              "      <td>-53.292490</td>\n",
              "      <td>-28.547329</td>\n",
              "      <td>-18.084171</td>\n",
              "      <td>-27.650131</td>\n",
              "      <td>-13.178939</td>\n",
              "      <td>/content/drive/MyDrive/Jordana/juntos/ablution...</td>\n",
              "      <td>ablutions</td>\n",
              "    </tr>\n",
              "    <tr>\n",
              "      <th>3</th>\n",
              "      <td>3</td>\n",
              "      <td>-279.37155</td>\n",
              "      <td>110.063730</td>\n",
              "      <td>-17.676710</td>\n",
              "      <td>42.614845</td>\n",
              "      <td>-26.099669</td>\n",
              "      <td>15.036302</td>\n",
              "      <td>-21.356310</td>\n",
              "      <td>2.286207</td>\n",
              "      <td>-7.712019</td>\n",
              "      <td>...</td>\n",
              "      <td>-14.623730</td>\n",
              "      <td>-50.749344</td>\n",
              "      <td>-30.965221</td>\n",
              "      <td>-54.163425</td>\n",
              "      <td>-25.900440</td>\n",
              "      <td>-16.709057</td>\n",
              "      <td>-27.285984</td>\n",
              "      <td>-13.047300</td>\n",
              "      <td>/content/drive/MyDrive/Jordana/juntos/ablution...</td>\n",
              "      <td>ablutions</td>\n",
              "    </tr>\n",
              "    <tr>\n",
              "      <th>4</th>\n",
              "      <td>4</td>\n",
              "      <td>-270.47635</td>\n",
              "      <td>103.757880</td>\n",
              "      <td>-26.422823</td>\n",
              "      <td>43.917908</td>\n",
              "      <td>-30.247402</td>\n",
              "      <td>18.331694</td>\n",
              "      <td>-24.953753</td>\n",
              "      <td>4.890441</td>\n",
              "      <td>-8.592377</td>\n",
              "      <td>...</td>\n",
              "      <td>-17.330420</td>\n",
              "      <td>-56.073875</td>\n",
              "      <td>-26.563236</td>\n",
              "      <td>-47.959644</td>\n",
              "      <td>-30.493471</td>\n",
              "      <td>-19.822690</td>\n",
              "      <td>-30.116833</td>\n",
              "      <td>-15.205853</td>\n",
              "      <td>/content/drive/MyDrive/Jordana/juntos/ablution...</td>\n",
              "      <td>ablutions</td>\n",
              "    </tr>\n",
              "  </tbody>\n",
              "</table>\n",
              "<p>5 rows × 81 columns</p>\n",
              "</div>\n",
              "      <button class=\"colab-df-convert\" onclick=\"convertToInteractive('df-3bf67898-64ae-4c41-855c-21c4b43452f6')\"\n",
              "              title=\"Convert this dataframe to an interactive table.\"\n",
              "              style=\"display:none;\">\n",
              "        \n",
              "  <svg xmlns=\"http://www.w3.org/2000/svg\" height=\"24px\"viewBox=\"0 0 24 24\"\n",
              "       width=\"24px\">\n",
              "    <path d=\"M0 0h24v24H0V0z\" fill=\"none\"/>\n",
              "    <path d=\"M18.56 5.44l.94 2.06.94-2.06 2.06-.94-2.06-.94-.94-2.06-.94 2.06-2.06.94zm-11 1L8.5 8.5l.94-2.06 2.06-.94-2.06-.94L8.5 2.5l-.94 2.06-2.06.94zm10 10l.94 2.06.94-2.06 2.06-.94-2.06-.94-.94-2.06-.94 2.06-2.06.94z\"/><path d=\"M17.41 7.96l-1.37-1.37c-.4-.4-.92-.59-1.43-.59-.52 0-1.04.2-1.43.59L10.3 9.45l-7.72 7.72c-.78.78-.78 2.05 0 2.83L4 21.41c.39.39.9.59 1.41.59.51 0 1.02-.2 1.41-.59l7.78-7.78 2.81-2.81c.8-.78.8-2.07 0-2.86zM5.41 20L4 18.59l7.72-7.72 1.47 1.35L5.41 20z\"/>\n",
              "  </svg>\n",
              "      </button>\n",
              "      \n",
              "  <style>\n",
              "    .colab-df-container {\n",
              "      display:flex;\n",
              "      flex-wrap:wrap;\n",
              "      gap: 12px;\n",
              "    }\n",
              "\n",
              "    .colab-df-convert {\n",
              "      background-color: #E8F0FE;\n",
              "      border: none;\n",
              "      border-radius: 50%;\n",
              "      cursor: pointer;\n",
              "      display: none;\n",
              "      fill: #1967D2;\n",
              "      height: 32px;\n",
              "      padding: 0 0 0 0;\n",
              "      width: 32px;\n",
              "    }\n",
              "\n",
              "    .colab-df-convert:hover {\n",
              "      background-color: #E2EBFA;\n",
              "      box-shadow: 0px 1px 2px rgba(60, 64, 67, 0.3), 0px 1px 3px 1px rgba(60, 64, 67, 0.15);\n",
              "      fill: #174EA6;\n",
              "    }\n",
              "\n",
              "    [theme=dark] .colab-df-convert {\n",
              "      background-color: #3B4455;\n",
              "      fill: #D2E3FC;\n",
              "    }\n",
              "\n",
              "    [theme=dark] .colab-df-convert:hover {\n",
              "      background-color: #434B5C;\n",
              "      box-shadow: 0px 1px 3px 1px rgba(0, 0, 0, 0.15);\n",
              "      filter: drop-shadow(0px 1px 2px rgba(0, 0, 0, 0.3));\n",
              "      fill: #FFFFFF;\n",
              "    }\n",
              "  </style>\n",
              "\n",
              "      <script>\n",
              "        const buttonEl =\n",
              "          document.querySelector('#df-3bf67898-64ae-4c41-855c-21c4b43452f6 button.colab-df-convert');\n",
              "        buttonEl.style.display =\n",
              "          google.colab.kernel.accessAllowed ? 'block' : 'none';\n",
              "\n",
              "        async function convertToInteractive(key) {\n",
              "          const element = document.querySelector('#df-3bf67898-64ae-4c41-855c-21c4b43452f6');\n",
              "          const dataTable =\n",
              "            await google.colab.kernel.invokeFunction('convertToInteractive',\n",
              "                                                     [key], {});\n",
              "          if (!dataTable) return;\n",
              "\n",
              "          const docLinkHtml = 'Like what you see? Visit the ' +\n",
              "            '<a target=\"_blank\" href=https://colab.research.google.com/notebooks/data_table.ipynb>data table notebook</a>'\n",
              "            + ' to learn more about interactive tables.';\n",
              "          element.innerHTML = '';\n",
              "          dataTable['output_type'] = 'display_data';\n",
              "          await google.colab.output.renderOutput(dataTable, element);\n",
              "          const docLink = document.createElement('div');\n",
              "          docLink.innerHTML = docLinkHtml;\n",
              "          element.appendChild(docLink);\n",
              "        }\n",
              "      </script>\n",
              "    </div>\n",
              "  </div>\n",
              "  "
            ]
          },
          "metadata": {},
          "execution_count": 46
        }
      ]
    },
    {
      "cell_type": "code",
      "source": [
        "# Functions from Random Foresth using MFCC ttps://www.kaggle.com/amlanpraharaj/random-forest-using-mfcc-features\n",
        "# Construct features set\n",
        "X = X_train.drop(['label', 'fname'], axis=1)\n",
        "feature_names = list(X.columns)\n",
        "X = X.values\n",
        "labels = np.sort(np.unique(X_train.label.values))\n",
        "num_class = len(labels)\n",
        "c2i = {}\n",
        "i2c = {}\n",
        "for i, c in enumerate(labels):\n",
        "    c2i[c] = i\n",
        "    i2c[i] = c\n",
        "y = np.array([c2i[x] for x in X_train.label.values])"
      ],
      "metadata": {
        "id": "wwLioNRzJw-o"
      },
      "execution_count": null,
      "outputs": []
    },
    {
      "cell_type": "code",
      "source": [
        "print(labels)"
      ],
      "metadata": {
        "id": "ztA0a-JU925e",
        "colab": {
          "base_uri": "https://localhost:8080/"
        },
        "outputId": "8363fb3c-d19c-4223-917c-e6f10f26ff25"
      },
      "execution_count": null,
      "outputs": [
        {
          "output_type": "stream",
          "name": "stdout",
          "text": [
            "['Cut' 'Delete' 'Delta' 'Enter' 'Escape' 'Golf' 'about' 'adapt' 'advice'\n",
            " 'ahead' 'all' 'although' 'and' 'anybody' 'anything' 'approach' 'are'\n",
            " 'banana' 'bath' 'be' 'beef' 'behavior' 'blue' 'both' 'bother' 'brush'\n",
            " 'but' 'call' 'can' 'car' 'carrot' 'celebrity' 'chair' 'choice' 'circular'\n",
            " 'copy' 'could' 'day' 'did' 'digest' 'displeasure' 'do' 'down' 'eight'\n",
            " 'episode' 'exaggerate' 'exploit' 'find' 'finger' 'fire' 'first' 'five'\n",
            " 'flowers' 'for' 'four' 'frog' 'from' 'get' 'gigantic' 'girl' 'glasses'\n",
            " 'go' 'good' 'green' 'greyhound' 'had' 'has' 'have' 'he' 'her' 'hotel'\n",
            " 'if' 'in' 'is' 'it' 'journalism' 'knife' 'lamp' 'left' 'like' 'look'\n",
            " 'massage' 'mouth' 'nine' 'no' 'now' 'on' 'one' 'orange' 'out' 'right'\n",
            " 'seven' 'six' 'three' 'two' 'up' 'water' 'word' 'yes' 'zero']\n"
          ]
        }
      ]
    },
    {
      "cell_type": "code",
      "source": [
        "X_test = X_test_ret.drop(['label', 'fname'], axis=1)\n",
        "X_test = X_test.values\n",
        "print(X.shape)\n",
        "print(X_test.shape)"
      ],
      "metadata": {
        "colab": {
          "base_uri": "https://localhost:8080/"
        },
        "id": "r1goIrIwcZG_",
        "outputId": "385372c7-7ff6-4148-f31a-cde0a9228297"
      },
      "execution_count": null,
      "outputs": [
        {
          "output_type": "stream",
          "name": "stdout",
          "text": [
            "(28316, 79)\n",
            "(12136, 79)\n"
          ]
        }
      ]
    },
    {
      "cell_type": "markdown",
      "source": [
        "# Divisão dos dados"
      ],
      "metadata": {
        "id": "Se3Uf0VBypu0"
      }
    },
    {
      "cell_type": "code",
      "source": [
        "##Divisão dos dados\n",
        "X_train, X_val, y_train, y_val = train_test_split(X, y, test_size=0.3, random_state=10, shuffle = True)"
      ],
      "metadata": {
        "id": "G9gZ_EgFyj5A"
      },
      "execution_count": null,
      "outputs": []
    },
    {
      "cell_type": "markdown",
      "source": [
        "# Modelo Random Forest"
      ],
      "metadata": {
        "id": "6PbFLBlMSZ5B"
      }
    },
    {
      "cell_type": "code",
      "source": [
        "#fitting random forest on the dataset\n",
        "import time as tm ###\n",
        "start = tm.time()\n",
        "\n",
        "rfc = RandomForestClassifier(n_estimators = 150)\n",
        "rfc.fit(X_train, y_train)\n",
        "def proba2labels(preds, i2c, k=3):\n",
        "    ans = []\n",
        "    ids = []\n",
        "    for p in preds:\n",
        "        idx = np.argsort(p)[::-1]\n",
        "        ids.append([i for i in idx[:k]])\n",
        "        ans.append(' '.join([i2c[i] for i in idx[:k]]))\n",
        "\n",
        "    return ans, ids\n",
        "#checking the accuracy of the model\n",
        "print(rfc.score(X_val, y_val))\n",
        "\n",
        "end = tm.time()\n",
        "print(\"✅ Concluído. Execução: {} segundos.\".format(round(end-start,2)))"
      ],
      "metadata": {
        "colab": {
          "base_uri": "https://localhost:8080/"
        },
        "id": "7VvZ1_WuSHqG",
        "outputId": "4dda5ae6-d246-4169-8fbf-18f89e2d05cd"
      },
      "execution_count": null,
      "outputs": [
        {
          "output_type": "stream",
          "name": "stdout",
          "text": [
            "0.9205414949970571\n",
            "✅ Concluído. Execução: 64.39 segundos.\n"
          ]
        }
      ]
    },
    {
      "cell_type": "markdown",
      "source": [
        "## GridSearch - Random Forest"
      ],
      "metadata": {
        "id": "wzlOWFGGD3R_"
      }
    },
    {
      "cell_type": "code",
      "source": [
        "import time as tm ###\n",
        "start = tm.time()\n",
        "\n",
        "#RandomForest\n",
        "# parametros = {'criterion': ['gini', 'entropy'],\n",
        "#               'n_estimators': [10, 40, 100, 150, 200],\n",
        "#               'min_samples_split': [2, 5, 10],\n",
        "#               'min_samples_leaf': [1, 2, 10],\n",
        "#               'max_depth':[2,3,4,5]}\n",
        "\n",
        "parametros = {'criterion': ['gini', 'entropy'],\n",
        "              'n_estimators': [100, 150, 200],\n",
        "              'min_samples_split': [2, 5],\n",
        "              'min_samples_leaf': [1, 2],\n",
        "              'max_depth':[3,4,5]}\n",
        "\n",
        "grid = GridSearchCV(RandomForestClassifier(), parametros, n_jobs=-1, cv=3)\n",
        "grid.fit(X_train, y_train)\n",
        "\n",
        "# Find the best model\n",
        "print(grid.best_score_)\n",
        "print(grid.best_params_)\n",
        "print(grid.best_estimator_)\n",
        "\n",
        "end = tm.time()\n",
        "print(\"✅ Concluído. Execução: {} segundos.\".format(round(end-start,2)))"
      ],
      "metadata": {
        "colab": {
          "base_uri": "https://localhost:8080/"
        },
        "id": "IJvMcgW3Bg8V",
        "outputId": "cb403616-c6d2-4198-8e2e-dcf041721949"
      },
      "execution_count": null,
      "outputs": [
        {
          "output_type": "stream",
          "name": "stdout",
          "text": [
            "0.44246001715352407\n",
            "{'criterion': 'entropy', 'max_depth': 5, 'min_samples_leaf': 1, 'min_samples_split': 2, 'n_estimators': 200}\n",
            "RandomForestClassifier(criterion='entropy', max_depth=5, n_estimators=200)\n",
            "✅ Concluído. Execução: 7050.68 segundos.\n"
          ]
        }
      ]
    },
    {
      "cell_type": "code",
      "source": [
        "## tempo gasto \"GridSearch - Random Forest\" = 3h17m"
      ],
      "metadata": {
        "id": "zVAjbW2I8m2Q"
      },
      "execution_count": null,
      "outputs": []
    },
    {
      "cell_type": "markdown",
      "source": [
        "### Salvar os melhores parâmetros do Random Forest\n"
      ],
      "metadata": {
        "id": "SsQSIcdRws5O"
      }
    },
    {
      "cell_type": "code",
      "source": [
        "###Salvar os melhores parâmetros do Random Forest\n",
        "import time as tm ###\n",
        "start = tm.time()\n",
        "\n",
        "import pandas as pd\n",
        "\n",
        "data_best_params = pd.DataFrame()\n",
        "# diction = grid.best_params_\n",
        "# diction = {'criterion': 'entropy', 'max_depth': 5, 'min_samples_leaf': 1, 'min_samples_split': 2, 'n_estimators': 150}\n",
        "diction = {'criterion': 'entropy', 'max_depth': 5, 'min_samples_leaf': 2, 'min_samples_split': 2, 'n_estimators': 200}\n",
        "\n",
        "data_best_params = data_best_params.append( diction, ignore_index=True)\n",
        "\n",
        "#Salvar dados de treinamento\n",
        "from google.colab import drive\n",
        "diretorio_google = '/content/drive'\n",
        "drive.mount(diretorio_google, True)\n",
        "\n",
        "from pathlib import Path  \n",
        "filepath = Path(diretorio_google + \"/MyDrive\" + \"/best_params_100_words_knn_RF.csv\")  \n",
        "filepath.parent.mkdir(parents=True, exist_ok=True)  \n",
        "data_best_params.to_csv(filepath)\n",
        "\n",
        "end = tm.time()\n",
        "print(\"✅ Concluído. Execução: {} segundos.\".format(round(end-start,2)))  "
      ],
      "metadata": {
        "colab": {
          "base_uri": "https://localhost:8080/"
        },
        "id": "xHzB7q0ZmV5M",
        "outputId": "d707899d-9a09-43c1-d2c0-3aab3a4866e1"
      },
      "execution_count": null,
      "outputs": [
        {
          "output_type": "stream",
          "name": "stdout",
          "text": [
            "Mounted at /content/drive\n",
            "✅ Concluído. Execução: 7.73 segundos.\n"
          ]
        }
      ]
    },
    {
      "cell_type": "code",
      "source": [
        "# print(diction['criterion'])\n",
        "data_best_params.head()"
      ],
      "metadata": {
        "id": "z31rstfK1ZwD",
        "colab": {
          "base_uri": "https://localhost:8080/",
          "height": 80
        },
        "outputId": "593b59ed-53b3-4059-c82b-21ee858e883f"
      },
      "execution_count": null,
      "outputs": [
        {
          "output_type": "execute_result",
          "data": {
            "text/plain": [
              "  criterion  max_depth  min_samples_leaf  min_samples_split  n_estimators\n",
              "0   entropy        5.0               2.0                2.0         200.0"
            ],
            "text/html": [
              "\n",
              "  <div id=\"df-798b3c37-f399-41e1-a259-48cfed0b8361\">\n",
              "    <div class=\"colab-df-container\">\n",
              "      <div>\n",
              "<style scoped>\n",
              "    .dataframe tbody tr th:only-of-type {\n",
              "        vertical-align: middle;\n",
              "    }\n",
              "\n",
              "    .dataframe tbody tr th {\n",
              "        vertical-align: top;\n",
              "    }\n",
              "\n",
              "    .dataframe thead th {\n",
              "        text-align: right;\n",
              "    }\n",
              "</style>\n",
              "<table border=\"1\" class=\"dataframe\">\n",
              "  <thead>\n",
              "    <tr style=\"text-align: right;\">\n",
              "      <th></th>\n",
              "      <th>criterion</th>\n",
              "      <th>max_depth</th>\n",
              "      <th>min_samples_leaf</th>\n",
              "      <th>min_samples_split</th>\n",
              "      <th>n_estimators</th>\n",
              "    </tr>\n",
              "  </thead>\n",
              "  <tbody>\n",
              "    <tr>\n",
              "      <th>0</th>\n",
              "      <td>entropy</td>\n",
              "      <td>5.0</td>\n",
              "      <td>2.0</td>\n",
              "      <td>2.0</td>\n",
              "      <td>200.0</td>\n",
              "    </tr>\n",
              "  </tbody>\n",
              "</table>\n",
              "</div>\n",
              "      <button class=\"colab-df-convert\" onclick=\"convertToInteractive('df-798b3c37-f399-41e1-a259-48cfed0b8361')\"\n",
              "              title=\"Convert this dataframe to an interactive table.\"\n",
              "              style=\"display:none;\">\n",
              "        \n",
              "  <svg xmlns=\"http://www.w3.org/2000/svg\" height=\"24px\"viewBox=\"0 0 24 24\"\n",
              "       width=\"24px\">\n",
              "    <path d=\"M0 0h24v24H0V0z\" fill=\"none\"/>\n",
              "    <path d=\"M18.56 5.44l.94 2.06.94-2.06 2.06-.94-2.06-.94-.94-2.06-.94 2.06-2.06.94zm-11 1L8.5 8.5l.94-2.06 2.06-.94-2.06-.94L8.5 2.5l-.94 2.06-2.06.94zm10 10l.94 2.06.94-2.06 2.06-.94-2.06-.94-.94-2.06-.94 2.06-2.06.94z\"/><path d=\"M17.41 7.96l-1.37-1.37c-.4-.4-.92-.59-1.43-.59-.52 0-1.04.2-1.43.59L10.3 9.45l-7.72 7.72c-.78.78-.78 2.05 0 2.83L4 21.41c.39.39.9.59 1.41.59.51 0 1.02-.2 1.41-.59l7.78-7.78 2.81-2.81c.8-.78.8-2.07 0-2.86zM5.41 20L4 18.59l7.72-7.72 1.47 1.35L5.41 20z\"/>\n",
              "  </svg>\n",
              "      </button>\n",
              "      \n",
              "  <style>\n",
              "    .colab-df-container {\n",
              "      display:flex;\n",
              "      flex-wrap:wrap;\n",
              "      gap: 12px;\n",
              "    }\n",
              "\n",
              "    .colab-df-convert {\n",
              "      background-color: #E8F0FE;\n",
              "      border: none;\n",
              "      border-radius: 50%;\n",
              "      cursor: pointer;\n",
              "      display: none;\n",
              "      fill: #1967D2;\n",
              "      height: 32px;\n",
              "      padding: 0 0 0 0;\n",
              "      width: 32px;\n",
              "    }\n",
              "\n",
              "    .colab-df-convert:hover {\n",
              "      background-color: #E2EBFA;\n",
              "      box-shadow: 0px 1px 2px rgba(60, 64, 67, 0.3), 0px 1px 3px 1px rgba(60, 64, 67, 0.15);\n",
              "      fill: #174EA6;\n",
              "    }\n",
              "\n",
              "    [theme=dark] .colab-df-convert {\n",
              "      background-color: #3B4455;\n",
              "      fill: #D2E3FC;\n",
              "    }\n",
              "\n",
              "    [theme=dark] .colab-df-convert:hover {\n",
              "      background-color: #434B5C;\n",
              "      box-shadow: 0px 1px 3px 1px rgba(0, 0, 0, 0.15);\n",
              "      filter: drop-shadow(0px 1px 2px rgba(0, 0, 0, 0.3));\n",
              "      fill: #FFFFFF;\n",
              "    }\n",
              "  </style>\n",
              "\n",
              "      <script>\n",
              "        const buttonEl =\n",
              "          document.querySelector('#df-798b3c37-f399-41e1-a259-48cfed0b8361 button.colab-df-convert');\n",
              "        buttonEl.style.display =\n",
              "          google.colab.kernel.accessAllowed ? 'block' : 'none';\n",
              "\n",
              "        async function convertToInteractive(key) {\n",
              "          const element = document.querySelector('#df-798b3c37-f399-41e1-a259-48cfed0b8361');\n",
              "          const dataTable =\n",
              "            await google.colab.kernel.invokeFunction('convertToInteractive',\n",
              "                                                     [key], {});\n",
              "          if (!dataTable) return;\n",
              "\n",
              "          const docLinkHtml = 'Like what you see? Visit the ' +\n",
              "            '<a target=\"_blank\" href=https://colab.research.google.com/notebooks/data_table.ipynb>data table notebook</a>'\n",
              "            + ' to learn more about interactive tables.';\n",
              "          element.innerHTML = '';\n",
              "          dataTable['output_type'] = 'display_data';\n",
              "          await google.colab.output.renderOutput(dataTable, element);\n",
              "          const docLink = document.createElement('div');\n",
              "          docLink.innerHTML = docLinkHtml;\n",
              "          element.appendChild(docLink);\n",
              "        }\n",
              "      </script>\n",
              "    </div>\n",
              "  </div>\n",
              "  "
            ]
          },
          "metadata": {},
          "execution_count": 13
        }
      ]
    },
    {
      "cell_type": "markdown",
      "source": [
        "## Treinando o modelo Random Forest - Classificador"
      ],
      "metadata": {
        "id": "f2M4Xvr7F40R"
      }
    },
    {
      "cell_type": "code",
      "source": [
        "# Optimal model - Random Forest\n",
        "import time as tm ###\n",
        "start = tm.time()\n",
        "\n",
        "print('\\n✅ Construção do Modelo.')\n",
        "# clf_rf = RandomForestClassifier(n_estimators=grid.best_params_['n_estimators'],\n",
        "#                                 criterion=grid.best_params_['criterion'], \n",
        "#                                 min_samples_leaf=grid.best_params_['min_samples_leaf'], \n",
        "#                                 min_samples_split=grid.best_params_['min_samples_split'], n_jobs=-1)\n",
        "\n",
        "clf_rf = RandomForestClassifier(n_estimators=diction['n_estimators'], \n",
        "                                # max_depth=diction['max_depth'], \n",
        "                                criterion=diction['criterion'], \n",
        "                                min_samples_leaf=diction['min_samples_leaf'], \n",
        "                                min_samples_split=diction['min_samples_split'], n_jobs=-1)\n",
        "\n",
        "print('✅ Treinamento do Modelo.')\n",
        "clf_rf.fit(X_train, y_train)\n",
        "print(accuracy_score(clf_rf.predict(X_val), y_val))\n",
        "\n",
        "end = tm.time()\n",
        "print(\"✅ Concluído. Execução: {} segundos.\".format(round(end-start,2))) "
      ],
      "metadata": {
        "colab": {
          "base_uri": "https://localhost:8080/"
        },
        "id": "JxoUOs0vEz1e",
        "outputId": "8f2ddf13-9cd2-4213-e2b8-b8fcaa7ac55c"
      },
      "execution_count": null,
      "outputs": [
        {
          "output_type": "stream",
          "name": "stdout",
          "text": [
            "\n",
            "✅ Construção do Modelo.\n",
            "✅ Treinamento do Modelo.\n",
            "0.9216009417304296\n",
            "✅ Concluído. Execução: 196.21 segundos.\n"
          ]
        }
      ]
    },
    {
      "cell_type": "code",
      "source": [
        "print(X_train)"
      ],
      "metadata": {
        "colab": {
          "base_uri": "https://localhost:8080/"
        },
        "id": "7dnUFUfyCTKJ",
        "outputId": "b6259c4f-3204-47d8-8b7e-d35938aca3ac"
      },
      "execution_count": null,
      "outputs": [
        {
          "output_type": "stream",
          "name": "stdout",
          "text": [
            "[[ 1.28700000e+03 -2.54589860e+02  1.11919430e+02 ... -1.28230780e+01\n",
            "  -1.71648860e+01 -2.24947430e+01]\n",
            " [ 1.28270000e+04 -2.88726380e+02  8.43171300e+01 ... -2.36653370e+01\n",
            "  -1.74359680e+01 -1.93808500e+01]\n",
            " [ 7.64700000e+03 -3.08790650e+02  1.05422280e+02 ... -1.58033540e+01\n",
            "  -1.29594560e+01 -1.96682780e+01]\n",
            " ...\n",
            " [ 2.94550000e+04 -2.46440640e+02  1.29354430e+02 ... -1.38454880e+01\n",
            "  -9.68231700e+00 -1.56617400e+01]\n",
            " [ 6.62700000e+03 -2.95329650e+02  1.03679500e+02 ... -1.51798670e+01\n",
            "  -1.08262580e+01 -1.59888320e+01]\n",
            " [ 1.75130000e+04 -2.72506470e+02  1.14970850e+02 ... -1.56421770e+01\n",
            "  -1.50060005e+01 -1.72643740e+01]]\n"
          ]
        }
      ]
    },
    {
      "cell_type": "markdown",
      "source": [
        "# Modelo KNN"
      ],
      "metadata": {
        "id": "d6nriKuiPktj"
      }
    },
    {
      "cell_type": "markdown",
      "source": [
        "## GridSearch - KNN"
      ],
      "metadata": {
        "id": "r7aUaBALPvoY"
      }
    },
    {
      "cell_type": "code",
      "source": [
        "#KNN\n",
        "import time as tm ###\n",
        "start = tm.time()\n",
        "\n",
        "# parametros = {'n_neighbors': [3, 5, 10, 20],\n",
        "parametros = {'n_neighbors': range(1, 50),               \n",
        "              'p': [1, 2]}\n",
        "\n",
        "grid_knn = GridSearchCV(KNeighborsClassifier(), parametros, n_jobs=-1, cv=3)\n",
        "grid_knn.fit(X_train, y_train)\n",
        "\n",
        "# Find the best model\n",
        "print(grid_knn.best_score_)\n",
        "print(grid_knn.best_params_)\n",
        "print(grid_knn.best_estimator_)\n",
        "\n",
        "end = tm.time()\n",
        "print(\"✅ Concluído. Execução: {} segundos.\".format(round(end-start,2)))  "
      ],
      "metadata": {
        "colab": {
          "base_uri": "https://localhost:8080/"
        },
        "id": "6Nj5T3KOPpR2",
        "outputId": "fb8c3f48-ca84-4ad6-e6a9-e372da55c28f"
      },
      "execution_count": null,
      "outputs": [
        {
          "output_type": "stream",
          "name": "stderr",
          "text": [
            "/usr/local/lib/python3.8/dist-packages/joblib/externals/loky/process_executor.py:700: UserWarning: A worker stopped while some jobs were given to the executor. This can be caused by a too short worker timeout or by a memory leak.\n",
            "  warnings.warn(\n"
          ]
        },
        {
          "output_type": "stream",
          "name": "stdout",
          "text": [
            "0.9836537006205539\n",
            "{'n_neighbors': 21, 'p': 2}\n",
            "KNeighborsClassifier(n_neighbors=21)\n",
            "✅ Concluído. Execução: 380.18 segundos.\n"
          ]
        }
      ]
    },
    {
      "cell_type": "markdown",
      "source": [
        "## Recall or Sensitivity - KNN"
      ],
      "metadata": {
        "id": "bhJ6KJ6TDyR-"
      }
    },
    {
      "cell_type": "code",
      "source": [
        "import pandas as pd\n",
        "from sklearn.preprocessing import StandardScaler\n",
        "from sklearn.neighbors import KNeighborsClassifier\n",
        "from sklearn.pipeline import make_pipeline\n",
        "from sklearn.model_selection import cross_val_score\n",
        "\n",
        "from sklearn.metrics import make_scorer\n",
        "\n",
        "rec = 0\n",
        "\n",
        "for i in range(100):\n",
        "  palavraaserverificada = (y_train == i)\n",
        "  recall = cross_val_score(grid_knn, X_train, palavraaserverificada, \n",
        "                            cv=3, scoring=\"recall\").mean()\n",
        "  rec += recall\n",
        "  # print(rec)\n",
        "\n",
        "recall_avg = rec/100\n",
        "\n",
        "print(recall_avg)\n"
      ],
      "metadata": {
        "colab": {
          "base_uri": "https://localhost:8080/"
        },
        "id": "ftVzTbOmDxrk",
        "outputId": "57a9eeb1-b03f-48a1-89d9-a8e3e3a487fd"
      },
      "execution_count": null,
      "outputs": [
        {
          "output_type": "stream",
          "name": "stdout",
          "text": [
            "0.9726455578899347\n"
          ]
        }
      ]
    },
    {
      "cell_type": "code",
      "source": [
        "## Tempo recall = 3h"
      ],
      "metadata": {
        "id": "IOa-z5DW2U9F"
      },
      "execution_count": null,
      "outputs": []
    },
    {
      "cell_type": "markdown",
      "source": [
        "## Precision - KNN"
      ],
      "metadata": {
        "id": "fFZyH9B3DzER"
      }
    },
    {
      "cell_type": "code",
      "source": [
        "import pandas as pd\n",
        "from sklearn.preprocessing import StandardScaler\n",
        "from sklearn.neighbors import KNeighborsClassifier\n",
        "from sklearn.pipeline import make_pipeline\n",
        "from sklearn.model_selection import cross_val_score\n",
        "\n",
        "from sklearn.metrics import make_scorer\n",
        "\n",
        "prec = 0\n",
        "\n",
        "for i in range(100):\n",
        "  palavraaserverificada = (y_train == i)\n",
        "  precision = cross_val_score(grid_knn, X_train, palavraaserverificada, \n",
        "                            cv=3, scoring=\"precision\").mean()\n",
        "  prec += precision\n",
        "  print(prec)\n",
        "\n",
        "precision_avg = prec/100\n",
        "\n",
        "print(precision_avg)\n"
      ],
      "metadata": {
        "colab": {
          "base_uri": "https://localhost:8080/"
        },
        "id": "wrNLY6ZUDx5h",
        "outputId": "27951b44-87b2-4f3b-bfe4-73b622bf4b8b"
      },
      "execution_count": null,
      "outputs": [
        {
          "output_type": "stream",
          "name": "stdout",
          "text": [
            "0.9863215488215488\n",
            "1.975332537832538\n",
            "2.968459685598861\n",
            "3.96487545620818\n",
            "4.961171752504476\n",
            "5.95436903141604\n",
            "6.95082293212526\n",
            "7.938477253112914\n",
            "8.86792425772121\n",
            "9.822688810928478\n",
            "10.822688810928478\n",
            "11.800083446943804\n",
            "12.781481699128573\n",
            "13.770370588017462\n",
            "14.760269577916452\n",
            "15.722075133472007\n",
            "16.722075133472007\n",
            "17.708741800138675\n",
            "18.67933003543279\n",
            "19.667835782559226\n",
            "20.63782984078858\n",
            "21.61762782058656\n",
            "22.595380879540954\n",
            "23.55779918019455\n",
            "24.518475063451078\n",
            "25.487225063451078\n",
            "26.471584388576478\n",
            "27.46770841958423\n",
            "28.444978211654487\n",
            "29.444978211654487\n",
            "30.386995018377174\n",
            "31.37550076550361\n",
            "32.29890143890428\n",
            "33.28779032779317\n",
            "34.27629607491961\n",
            "35.2725923712159\n",
            "36.23705428919308\n",
            "37.23003596768008\n",
            "38.22652719575026\n",
            "39.193122023336464\n",
            "40.109975431366344\n",
            "41.10646665943652\n",
            "42.09559709421913\n",
            "43.09559709421913\n",
            "44.06523656290983\n",
            "45.0103210483169\n",
            "45.99125786748901\n",
            "46.98372467034907\n",
            "47.91920854131681\n",
            "48.85795080263972\n",
            "49.85407483364747\n",
            "50.84658325115589\n",
            "51.8121004925352\n",
            "52.80500829395364\n",
            "53.78644816078677\n",
            "54.75196540216608\n",
            "55.73529873549941\n",
            "56.70630437393142\n",
            "57.68405743288581\n",
            "58.66322409955247\n",
            "59.624848749412415\n",
            "60.59940680005742\n",
            "61.57979895692017\n",
            "62.52190822161008\n",
            "63.489650157093955\n",
            "64.48284743600551\n",
            "65.48284743600551\n",
            "66.48284743600551\n",
            "67.46827416708442\n",
            "68.45375990021982\n",
            "69.45017567082914\n",
            "70.4361763551641\n",
            "71.42823872227962\n",
            "72.41755817475696\n",
            "73.40489994690886\n",
            "74.39448328024218\n",
            "75.3503204538213\n",
            "76.330099865586\n",
            "77.32292808999318\n",
            "78.31296042656017\n",
            "79.3057919677788\n",
            "80.27439866971883\n",
            "81.26364598154679\n",
            "82.25998297788378\n",
            "83.24602021192634\n",
            "84.2383573766773\n",
            "85.21437031033693\n",
            "86.19987755671374\n",
            "87.17727219272906\n",
            "88.16986478532165\n",
            "89.1622890277459\n",
            "90.14857617418342\n",
            "91.13482825504832\n",
            "92.11675041579235\n",
            "93.11675041579235\n",
            "94.09613185909132\n",
            "95.08520824288523\n",
            "96.08520824288523\n",
            "97.07803895518865\n",
            "98.0546025290718\n",
            "0.980546025290718\n"
          ]
        }
      ]
    },
    {
      "cell_type": "code",
      "source": [
        "# Tempo precision = 3h"
      ],
      "metadata": {
        "id": "a7CdKLVj0Pto"
      },
      "execution_count": null,
      "outputs": []
    },
    {
      "cell_type": "markdown",
      "source": [
        "## Treinando o modelo KNN - Classificador"
      ],
      "metadata": {
        "id": "vkQWsR9jdL0x"
      }
    },
    {
      "cell_type": "code",
      "source": [
        "# Optimal model - KNN\n",
        "import time as tm ###\n",
        "start = tm.time()\n",
        "\n",
        "print('\\n✅ Construção do Modelo.')\n",
        "clf_knn = KNeighborsClassifier(n_neighbors=grid_knn.best_params_['n_neighbors'], p=grid_knn.best_params_['p'])\n",
        "print('✅ Treinamento do Modelo.')\n",
        "clf_knn.fit(X_train, y_train)\n",
        "print(accuracy_score(clf_knn.predict(X_val), y_val))\n",
        "\n",
        "end = tm.time()\n",
        "print(\"✅ Concluído. Execução: {} segundos.\".format(round(end-start,2)))  "
      ],
      "metadata": {
        "colab": {
          "base_uri": "https://localhost:8080/"
        },
        "id": "6BEzctoWE0Ih",
        "outputId": "5f5207a1-7e26-4979-bf09-de5ab334f917"
      },
      "execution_count": null,
      "outputs": [
        {
          "output_type": "stream",
          "name": "stdout",
          "text": [
            "\n",
            "✅ Construção do Modelo.\n",
            "✅ Treinamento do Modelo.\n",
            "0.9859917598587404\n",
            "✅ Concluído. Execução: 3.43 segundos.\n"
          ]
        }
      ]
    },
    {
      "cell_type": "markdown",
      "source": [
        "# Modelo Naive Bayes"
      ],
      "metadata": {
        "id": "tzWlMhkyv9yu"
      }
    },
    {
      "cell_type": "markdown",
      "source": [
        "## Treinando o modelo Naive Bayes - Classificador"
      ],
      "metadata": {
        "id": "eXD_vhu9wKuH"
      }
    },
    {
      "cell_type": "code",
      "source": [
        "# Naive Bayes\n",
        "from sklearn.naive_bayes import GaussianNB\n",
        "\n",
        "print('\\n✅ Construção do Modelo.')\n",
        "gnb = GaussianNB()\n",
        "\n",
        "print('✅ Treinamento do Modelo.')\n",
        "gnb.fit(X_train, y_train)\n",
        "print(accuracy_score(gnb.predict(X_val), y_val))"
      ],
      "metadata": {
        "colab": {
          "base_uri": "https://localhost:8080/"
        },
        "id": "r5cS6CGBE0Q0",
        "outputId": "ad9e05b2-f290-4a35-ada8-e1637c4e5bf5"
      },
      "execution_count": null,
      "outputs": [
        {
          "output_type": "stream",
          "name": "stdout",
          "text": [
            "\n",
            "✅ Construção do Modelo.\n",
            "✅ Treinamento do Modelo.\n",
            "0.9160682754561507\n"
          ]
        }
      ]
    },
    {
      "cell_type": "code",
      "source": [],
      "metadata": {
        "id": "bTHVwgZTE0aw"
      },
      "execution_count": null,
      "outputs": []
    },
    {
      "cell_type": "markdown",
      "source": [
        "## Desconsidere o que está abaixo!!"
      ],
      "metadata": {
        "id": "QtHtmmwqczhj"
      }
    },
    {
      "cell_type": "markdown",
      "source": [
        "# Cross Validation Parameters"
      ],
      "metadata": {
        "id": "GDuroO4X4o0J"
      }
    },
    {
      "cell_type": "code",
      "source": [
        "from sklearn.model_selection import RepeatedStratifiedKFold\n",
        "from sklearn.model_selection import cross_val_score, cross_validate, cross_val_predict\n",
        "\n",
        "X_train, X_test, y_train, y_test = train_test_split(X, y, test_size = 0.30, random_state=0)\n",
        "\n",
        "cv = RepeatedStratifiedKFold(n_splits=5, n_repeats=10)"
      ],
      "metadata": {
        "id": "UZBgWJNK4uwN"
      },
      "execution_count": null,
      "outputs": []
    },
    {
      "cell_type": "markdown",
      "source": [
        "### Modelo KNN"
      ],
      "metadata": {
        "id": "EjskfcfdgDg7"
      }
    },
    {
      "cell_type": "code",
      "source": [
        "from sklearn.preprocessing import StandardScaler\n",
        "from sklearn.pipeline import Pipeline\n",
        "from sklearn.neighbors import KNeighborsClassifier\n",
        "\n",
        "steps4 = [('scaler', StandardScaler()),('KNN', KNeighborsClassifier())]       \n",
        "pipeline_knn = Pipeline(steps4)\n",
        "knn = pipeline_knn.fit(X_train, y_train)\n",
        "print('Accuracy with Scaling: {}'.format(knn.score(X_test, y_test)))"
      ],
      "metadata": {
        "colab": {
          "base_uri": "https://localhost:8080/"
        },
        "id": "3iJaR7-2f9UG",
        "outputId": "6de9cf62-152c-47b6-d435-4f5ffb88c283"
      },
      "execution_count": null,
      "outputs": [
        {
          "output_type": "stream",
          "name": "stdout",
          "text": [
            "Accuracy with Scaling: 0.8900523560209425\n"
          ]
        }
      ]
    },
    {
      "cell_type": "code",
      "source": [
        "knn_train_acc = float(knn.score(X_train, y_train)*100)\n",
        "print(\"----train accuracy score %s ----\" % knn_train_acc)\n",
        "\n",
        "knn_test_acc = float(knn.score(X_test, y_test)*100)\n",
        "print(\"----test accuracy score %s ----\" % knn_train_acc)"
      ],
      "metadata": {
        "id": "SWuuEsnhf9X8",
        "colab": {
          "base_uri": "https://localhost:8080/"
        },
        "outputId": "386ed0c0-795e-43a2-b654-9eb16f91e5a1"
      },
      "execution_count": null,
      "outputs": [
        {
          "output_type": "stream",
          "name": "stdout",
          "text": [
            "----train accuracy score 95.73033707865169 ----\n",
            "----test accuracy score 95.73033707865169 ----\n"
          ]
        }
      ]
    },
    {
      "cell_type": "code",
      "source": [
        "knn_res = cross_val_score(knn, X, y, cv=cv, n_jobs=-1)\n",
        "print(knn_res)\n",
        "print(\"Average:\", np.average(knn_res))"
      ],
      "metadata": {
        "colab": {
          "base_uri": "https://localhost:8080/"
        },
        "id": "eTilPiFmo8FA",
        "outputId": "e0b42552-efbe-4619-e1a9-62974f9d0154"
      },
      "execution_count": null,
      "outputs": [
        {
          "output_type": "stream",
          "name": "stdout",
          "text": [
            "[0.91764706 0.89803922 0.88976378 0.91338583 0.90551181 0.94901961\n",
            " 0.8627451  0.88976378 0.9015748  0.88188976 0.91764706 0.91764706\n",
            " 0.92125984 0.89370079 0.92125984 0.89019608 0.89019608 0.91338583\n",
            " 0.90944882 0.90551181 0.91764706 0.8627451  0.90944882 0.84251969\n",
            " 0.91338583 0.86666667 0.92156863 0.87007874 0.86614173 0.90551181\n",
            " 0.92156863 0.90588235 0.88976378 0.89370079 0.88188976 0.90980392\n",
            " 0.89803922 0.92913386 0.85433071 0.86614173 0.89803922 0.94117647\n",
            " 0.88582677 0.85826772 0.92519685 0.89803922 0.88235294 0.92519685\n",
            " 0.91732283 0.89370079]\n",
            "Average: 0.8988136482939634\n"
          ]
        }
      ]
    },
    {
      "cell_type": "code",
      "source": [
        "knn_pred = knn.predict(X_test)\n",
        "print(knn_pred)"
      ],
      "metadata": {
        "colab": {
          "base_uri": "https://localhost:8080/"
        },
        "id": "TxFhF2vIo8RD",
        "outputId": "f5ac37b9-533f-412c-ad5e-90c2a9346ef5"
      },
      "execution_count": null,
      "outputs": [
        {
          "output_type": "stream",
          "name": "stdout",
          "text": [
            "[2 0 0 1 2 0 1 3 0 0 0 2 1 1 2 1 1 0 0 3 2 3 1 2 1 1 3 2 0 2 2 0 1 0 2 2 2\n",
            " 2 1 1 0 1 1 3 2 3 1 0 3 2 1 3 0 2 2 1 3 0 0 0 1 1 2 3 0 0 3 0 3 1 0 0 0 1\n",
            " 0 0 3 0 3 1 1 1 0 0 0 2 1 0 0 0 1 3 0 3 0 2 0 2 0 2 3 2 1 2 1 2 3 3 3 0 1\n",
            " 1 1 3 0 1 3 2 1 0 2 3 0 2 3 3 3 2 0 1 3 1 3 3 1 2 0 3 1 2 2 1 2 2 2 2 0 2\n",
            " 0 2 1 3 0 1 3 0 3 0 0 2 0 1 3 1 1 2 1 1 2 0 0 0 0 3 3 1 0 0 3 0 0 2 3 2 0\n",
            " 0 0 2 3 2 1 1 1 1 1 1 1 3 1 1 2 3 2 1 3 0 3 1 0 0 0 1 1 3 0 2 3 1 0 3 0 3\n",
            " 3 3 0 0 1 3 1 3 3 3 1 2 1 2 2 0 2 1 2 3 1 2 1 1 3 1 3 0 1 1 1 0 2 1 1 0 3\n",
            " 0 3 3 1 2 2 2 3 2 0 3 3 2 3 1 1 3 0 3 2 2 0 1 1 1 0 1 2 2 3 2 1 1 1 3 2 1\n",
            " 1 0 0 0 1 2 1 1 0 2 3 3 0 1 1 1 3 0 1 2 3 3 1 1 0 0 3 0 2 0 1 0 1 1 1 1 3\n",
            " 3 2 2 2 0 3 1 2 1 1 2 3 0 2 0 2 0 0 1 3 1 2 3 1 1 0 0 1 0 0 3 1 0 3 3 3 1\n",
            " 1 3 1 1 3 2 1 3 3 2 1 1]\n"
          ]
        }
      ]
    },
    {
      "cell_type": "code",
      "source": [
        "import matplotlib.pyplot as plt\n",
        "%matplotlib inline\n",
        "import seaborn as sns\n",
        "\n",
        "print(classification_report(y_test,knn_pred))\n",
        "\n",
        "acc_knn = float(accuracy_score(y_test,knn_pred))*100\n",
        "print(\"----accuracy score %s ----\" % acc_knn)\n",
        "\n",
        "cm_knn = confusion_matrix(y_test,knn_pred)\n",
        "\n",
        "# plt.figure(figsize=(30,30))\n",
        "plt.figure(figsize=(5,5))\n",
        "ax= plt.subplot()\n",
        "sns.heatmap(cm_knn, annot=True, fmt='g', cmap='Set1_r')\n",
        "\n",
        "# labels, title and ticks\n",
        "ax.set_xlabel('Predicted labels');\n",
        "ax.set_ylabel('True labels'); \n",
        "ax.set_title('Confusion Matrix (K Nearest Neighbour)'); \n",
        "ax.xaxis.set_ticklabels(labels);\n",
        "ax.yaxis.set_ticklabels(labels);"
      ],
      "metadata": {
        "colab": {
          "base_uri": "https://localhost:8080/",
          "height": 558
        },
        "id": "7x48bDkro8cc",
        "outputId": "85cb3e88-ec8c-4b91-cf10-bc9f1ace58d4"
      },
      "execution_count": null,
      "outputs": [
        {
          "output_type": "stream",
          "name": "stdout",
          "text": [
            "              precision    recall  f1-score   support\n",
            "\n",
            "           0       0.84      0.93      0.88        89\n",
            "           1       0.81      0.91      0.86       103\n",
            "           2       0.96      0.82      0.89        94\n",
            "           3       0.99      0.90      0.94        96\n",
            "\n",
            "    accuracy                           0.89       382\n",
            "   macro avg       0.90      0.89      0.89       382\n",
            "weighted avg       0.90      0.89      0.89       382\n",
            "\n",
            "----accuracy score 89.00523560209425 ----\n"
          ]
        },
        {
          "output_type": "display_data",
          "data": {
            "text/plain": [
              "<Figure size 360x360 with 2 Axes>"
            ],
            "image/png": "[encoded data removed]"
          },
          "metadata": {
            "needs_background": "light"
          }
        }
      ]
    },
    {
      "cell_type": "markdown",
      "source": [
        "# Batch - KNN - 100-words"
      ],
      "metadata": {
        "id": "Ox3w09zNvio1"
      }
    },
    {
      "cell_type": "code",
      "source": [],
      "metadata": {
        "id": "1JoRN6EL8ffW"
      },
      "execution_count": null,
      "outputs": []
    },
    {
      "cell_type": "code",
      "source": [],
      "metadata": {
        "id": "OFSscZfL8fjM"
      },
      "execution_count": null,
      "outputs": []
    },
    {
      "cell_type": "code",
      "source": [],
      "metadata": {
        "id": "mdJoyJ888fne"
      },
      "execution_count": null,
      "outputs": []
    }
  ]
}