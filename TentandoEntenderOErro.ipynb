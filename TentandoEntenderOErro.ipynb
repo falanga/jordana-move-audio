{
  "nbformat": 4,
  "nbformat_minor": 0,
  "metadata": {
    "colab": {
      "provenance": [],
      "toc_visible": true,
      "authorship_tag": "ABX9TyNA7mynvtd/XXi9UQbz7bWe",
      "include_colab_link": true
    },
    "kernelspec": {
      "name": "python3",
      "display_name": "Python 3"
    },
    "language_info": {
      "name": "python"
    },
    "widgets": {
      "application/vnd.jupyter.widget-state+json": {
        "856dc9dae0894abebb7174638d71e2da": {
          "model_module": "@jupyter-widgets/controls",
          "model_name": "HBoxModel",
          "model_module_version": "1.5.0",
          "state": {
            "_dom_classes": [],
            "_model_module": "@jupyter-widgets/controls",
            "_model_module_version": "1.5.0",
            "_model_name": "HBoxModel",
            "_view_count": null,
            "_view_module": "@jupyter-widgets/controls",
            "_view_module_version": "1.5.0",
            "_view_name": "HBoxView",
            "box_style": "",
            "children": [
              "IPY_MODEL_c3a5ac4b0e04466e96ed8bb41b485d01",
              "IPY_MODEL_4044df33ca754a7e97f6d4355e8b7797",
              "IPY_MODEL_0156dc3506224c788228e594721dc5db"
            ],
            "layout": "IPY_MODEL_4c5e48bfb7604ea38463a8a4588f7058"
          }
        },
        "c3a5ac4b0e04466e96ed8bb41b485d01": {
          "model_module": "@jupyter-widgets/controls",
          "model_name": "HTMLModel",
          "model_module_version": "1.5.0",
          "state": {
            "_dom_classes": [],
            "_model_module": "@jupyter-widgets/controls",
            "_model_module_version": "1.5.0",
            "_model_name": "HTMLModel",
            "_view_count": null,
            "_view_module": "@jupyter-widgets/controls",
            "_view_module_version": "1.5.0",
            "_view_name": "HTMLView",
            "description": "",
            "description_tooltip": null,
            "layout": "IPY_MODEL_426d070ab9344b3991d1549e8e78cd61",
            "placeholder": "​",
            "style": "IPY_MODEL_d63f68d6a4f641b4bc38fa73c3db54f5",
            "value": "100%"
          }
        },
        "4044df33ca754a7e97f6d4355e8b7797": {
          "model_module": "@jupyter-widgets/controls",
          "model_name": "FloatProgressModel",
          "model_module_version": "1.5.0",
          "state": {
            "_dom_classes": [],
            "_model_module": "@jupyter-widgets/controls",
            "_model_module_version": "1.5.0",
            "_model_name": "FloatProgressModel",
            "_view_count": null,
            "_view_module": "@jupyter-widgets/controls",
            "_view_module_version": "1.5.0",
            "_view_name": "ProgressView",
            "bar_style": "success",
            "description": "",
            "description_tooltip": null,
            "layout": "IPY_MODEL_2207ebb76d1f42fc8c821bc2d1acd773",
            "max": 751,
            "min": 0,
            "orientation": "horizontal",
            "style": "IPY_MODEL_497538f71f194b4c9e323bb895f255c5",
            "value": 751
          }
        },
        "0156dc3506224c788228e594721dc5db": {
          "model_module": "@jupyter-widgets/controls",
          "model_name": "HTMLModel",
          "model_module_version": "1.5.0",
          "state": {
            "_dom_classes": [],
            "_model_module": "@jupyter-widgets/controls",
            "_model_module_version": "1.5.0",
            "_model_name": "HTMLModel",
            "_view_count": null,
            "_view_module": "@jupyter-widgets/controls",
            "_view_module_version": "1.5.0",
            "_view_name": "HTMLView",
            "description": "",
            "description_tooltip": null,
            "layout": "IPY_MODEL_0eed8fdd6db5469f9b9ffa4d0e9ca76a",
            "placeholder": "​",
            "style": "IPY_MODEL_f66cb56959974ce6ba8e18bf263adaf6",
            "value": " 751/751 [07:23&lt;00:00,  1.32it/s]"
          }
        },
        "4c5e48bfb7604ea38463a8a4588f7058": {
          "model_module": "@jupyter-widgets/base",
          "model_name": "LayoutModel",
          "model_module_version": "1.2.0",
          "state": {
            "_model_module": "@jupyter-widgets/base",
            "_model_module_version": "1.2.0",
            "_model_name": "LayoutModel",
            "_view_count": null,
            "_view_module": "@jupyter-widgets/base",
            "_view_module_version": "1.2.0",
            "_view_name": "LayoutView",
            "align_content": null,
            "align_items": null,
            "align_self": null,
            "border": null,
            "bottom": null,
            "display": null,
            "flex": null,
            "flex_flow": null,
            "grid_area": null,
            "grid_auto_columns": null,
            "grid_auto_flow": null,
            "grid_auto_rows": null,
            "grid_column": null,
            "grid_gap": null,
            "grid_row": null,
            "grid_template_areas": null,
            "grid_template_columns": null,
            "grid_template_rows": null,
            "height": null,
            "justify_content": null,
            "justify_items": null,
            "left": null,
            "margin": null,
            "max_height": null,
            "max_width": null,
            "min_height": null,
            "min_width": null,
            "object_fit": null,
            "object_position": null,
            "order": null,
            "overflow": null,
            "overflow_x": null,
            "overflow_y": null,
            "padding": null,
            "right": null,
            "top": null,
            "visibility": null,
            "width": null
          }
        },
        "426d070ab9344b3991d1549e8e78cd61": {
          "model_module": "@jupyter-widgets/base",
          "model_name": "LayoutModel",
          "model_module_version": "1.2.0",
          "state": {
            "_model_module": "@jupyter-widgets/base",
            "_model_module_version": "1.2.0",
            "_model_name": "LayoutModel",
            "_view_count": null,
            "_view_module": "@jupyter-widgets/base",
            "_view_module_version": "1.2.0",
            "_view_name": "LayoutView",
            "align_content": null,
            "align_items": null,
            "align_self": null,
            "border": null,
            "bottom": null,
            "display": null,
            "flex": null,
            "flex_flow": null,
            "grid_area": null,
            "grid_auto_columns": null,
            "grid_auto_flow": null,
            "grid_auto_rows": null,
            "grid_column": null,
            "grid_gap": null,
            "grid_row": null,
            "grid_template_areas": null,
            "grid_template_columns": null,
            "grid_template_rows": null,
            "height": null,
            "justify_content": null,
            "justify_items": null,
            "left": null,
            "margin": null,
            "max_height": null,
            "max_width": null,
            "min_height": null,
            "min_width": null,
            "object_fit": null,
            "object_position": null,
            "order": null,
            "overflow": null,
            "overflow_x": null,
            "overflow_y": null,
            "padding": null,
            "right": null,
            "top": null,
            "visibility": null,
            "width": null
          }
        },
        "d63f68d6a4f641b4bc38fa73c3db54f5": {
          "model_module": "@jupyter-widgets/controls",
          "model_name": "DescriptionStyleModel",
          "model_module_version": "1.5.0",
          "state": {
            "_model_module": "@jupyter-widgets/controls",
            "_model_module_version": "1.5.0",
            "_model_name": "DescriptionStyleModel",
            "_view_count": null,
            "_view_module": "@jupyter-widgets/base",
            "_view_module_version": "1.2.0",
            "_view_name": "StyleView",
            "description_width": ""
          }
        },
        "2207ebb76d1f42fc8c821bc2d1acd773": {
          "model_module": "@jupyter-widgets/base",
          "model_name": "LayoutModel",
          "model_module_version": "1.2.0",
          "state": {
            "_model_module": "@jupyter-widgets/base",
            "_model_module_version": "1.2.0",
            "_model_name": "LayoutModel",
            "_view_count": null,
            "_view_module": "@jupyter-widgets/base",
            "_view_module_version": "1.2.0",
            "_view_name": "LayoutView",
            "align_content": null,
            "align_items": null,
            "align_self": null,
            "border": null,
            "bottom": null,
            "display": null,
            "flex": null,
            "flex_flow": null,
            "grid_area": null,
            "grid_auto_columns": null,
            "grid_auto_flow": null,
            "grid_auto_rows": null,
            "grid_column": null,
            "grid_gap": null,
            "grid_row": null,
            "grid_template_areas": null,
            "grid_template_columns": null,
            "grid_template_rows": null,
            "height": null,
            "justify_content": null,
            "justify_items": null,
            "left": null,
            "margin": null,
            "max_height": null,
            "max_width": null,
            "min_height": null,
            "min_width": null,
            "object_fit": null,
            "object_position": null,
            "order": null,
            "overflow": null,
            "overflow_x": null,
            "overflow_y": null,
            "padding": null,
            "right": null,
            "top": null,
            "visibility": null,
            "width": null
          }
        },
        "497538f71f194b4c9e323bb895f255c5": {
          "model_module": "@jupyter-widgets/controls",
          "model_name": "ProgressStyleModel",
          "model_module_version": "1.5.0",
          "state": {
            "_model_module": "@jupyter-widgets/controls",
            "_model_module_version": "1.5.0",
            "_model_name": "ProgressStyleModel",
            "_view_count": null,
            "_view_module": "@jupyter-widgets/base",
            "_view_module_version": "1.2.0",
            "_view_name": "StyleView",
            "bar_color": null,
            "description_width": ""
          }
        },
        "0eed8fdd6db5469f9b9ffa4d0e9ca76a": {
          "model_module": "@jupyter-widgets/base",
          "model_name": "LayoutModel",
          "model_module_version": "1.2.0",
          "state": {
            "_model_module": "@jupyter-widgets/base",
            "_model_module_version": "1.2.0",
            "_model_name": "LayoutModel",
            "_view_count": null,
            "_view_module": "@jupyter-widgets/base",
            "_view_module_version": "1.2.0",
            "_view_name": "LayoutView",
            "align_content": null,
            "align_items": null,
            "align_self": null,
            "border": null,
            "bottom": null,
            "display": null,
            "flex": null,
            "flex_flow": null,
            "grid_area": null,
            "grid_auto_columns": null,
            "grid_auto_flow": null,
            "grid_auto_rows": null,
            "grid_column": null,
            "grid_gap": null,
            "grid_row": null,
            "grid_template_areas": null,
            "grid_template_columns": null,
            "grid_template_rows": null,
            "height": null,
            "justify_content": null,
            "justify_items": null,
            "left": null,
            "margin": null,
            "max_height": null,
            "max_width": null,
            "min_height": null,
            "min_width": null,
            "object_fit": null,
            "object_position": null,
            "order": null,
            "overflow": null,
            "overflow_x": null,
            "overflow_y": null,
            "padding": null,
            "right": null,
            "top": null,
            "visibility": null,
            "width": null
          }
        },
        "f66cb56959974ce6ba8e18bf263adaf6": {
          "model_module": "@jupyter-widgets/controls",
          "model_name": "DescriptionStyleModel",
          "model_module_version": "1.5.0",
          "state": {
            "_model_module": "@jupyter-widgets/controls",
            "_model_module_version": "1.5.0",
            "_model_name": "DescriptionStyleModel",
            "_view_count": null,
            "_view_module": "@jupyter-widgets/base",
            "_view_module_version": "1.2.0",
            "_view_name": "StyleView",
            "description_width": ""
          }
        }
      }
    }
  },
  "cells": [
    {
      "cell_type": "markdown",
      "metadata": {
        "id": "view-in-github",
        "colab_type": "text"
      },
      "source": [
        "<a href=\"https://colab.research.google.com/github/falanga/jordana-move-audio/blob/main/TentandoEntenderOErro.ipynb\" target=\"_parent\"><img src=\"https://colab.research.google.com/assets/colab-badge.svg\" alt=\"Open In Colab\"/></a>"
      ]
    },
    {
      "cell_type": "markdown",
      "source": [
        "https://www.kaggle.com/code/amlanpraharaj/random-forest-using-mfcc-features/notebook\n",
        "\n",
        "https://www.kaggle.com/code/anmour/svm-using-mfcc-features/notebook\n",
        "\n",
        "https://www.kaggle.com/code/ilyamich/mfcc-implementation-and-tutorial"
      ],
      "metadata": {
        "id": "g13PJJjlNMiY"
      }
    },
    {
      "cell_type": "markdown",
      "source": [
        "# Criar base de dados para Treinamento e Testes Com e Sem Inteligibilidades"
      ],
      "metadata": {
        "id": "24pvqwFDNRB6"
      }
    },
    {
      "cell_type": "code",
      "source": [
        "# Salva dados num arquivo\n",
        "def salva_dados(dados, nome_do_arquivo):\n",
        "  from google.colab import drive\n",
        "  diretorio_google = '/content/drive'\n",
        "  drive.mount(diretorio_google, True)\n",
        "\n",
        "  from pathlib import Path  \n",
        "  filepath = Path(diretorio_google + \"/MyDrive/Jordana/\" + nome_do_arquivo)  \n",
        "\n",
        "  filepath.parent.mkdir(parents=True, exist_ok=True)  \n",
        "  dados.to_csv(filepath)\n",
        "  print(\"Arquivo {} salvo\", nome_do_arquivo)"
      ],
      "metadata": {
        "id": "5C2UY5jNOsnZ"
      },
      "execution_count": null,
      "outputs": []
    },
    {
      "cell_type": "code",
      "execution_count": null,
      "metadata": {
        "colab": {
          "base_uri": "https://localhost:8080/",
          "height": 84,
          "referenced_widgets": [
            "856dc9dae0894abebb7174638d71e2da",
            "c3a5ac4b0e04466e96ed8bb41b485d01",
            "4044df33ca754a7e97f6d4355e8b7797",
            "0156dc3506224c788228e594721dc5db",
            "4c5e48bfb7604ea38463a8a4588f7058",
            "426d070ab9344b3991d1549e8e78cd61",
            "d63f68d6a4f641b4bc38fa73c3db54f5",
            "2207ebb76d1f42fc8c821bc2d1acd773",
            "497538f71f194b4c9e323bb895f255c5",
            "0eed8fdd6db5469f9b9ffa4d0e9ca76a",
            "f66cb56959974ce6ba8e18bf263adaf6"
          ]
        },
        "id": "ig3khyPiM_5C",
        "outputId": "2f9daeb4-5675-4c78-ab65-7899d2bdd570"
      },
      "outputs": [
        {
          "output_type": "stream",
          "name": "stdout",
          "text": [
            "Mounted at /content/drive\n",
            "⚙️ Extração MFCC para as palavras\n"
          ]
        },
        {
          "output_type": "display_data",
          "data": {
            "text/plain": [
              "  0%|          | 0/751 [00:00<?, ?it/s]"
            ],
            "application/vnd.jupyter.widget-view+json": {
              "version_major": 2,
              "version_minor": 0,
              "model_id": "856dc9dae0894abebb7174638d71e2da"
            }
          },
          "metadata": {}
        }
      ],
      "source": [
        "#Funão para Gerar os dados MFCC\n",
        "\n",
        "from scipy.stats import skew\n",
        "\n",
        "# Generate mfcc features with mean and standard deviation\n",
        "def get_mfcc(nome_do_audio):\n",
        "    data, SAMPLE_RATE = librosa.load(nome_do_audio)\n",
        "\n",
        "    try:\n",
        "        ft1 = librosa.feature.mfcc(data, sr = SAMPLE_RATE, n_mfcc=13)\n",
        "        # ft2 = librosa.feature.zero_crossing_rate(data)[0]\n",
        "        # ft3 = librosa.feature.spectral_rolloff(data)[0]\n",
        "        # ft4 = librosa.feature.spectral_centroid(data)[0]\n",
        "        # ft5 = librosa.feature.spectral_contrast(data)[0]\n",
        "        # ft6 = librosa.feature.spectral_bandwidth(data)[0]\n",
        "        ft1_trunc = np.hstack((np.mean(ft1, axis=1), np.std(ft1, axis=1), skew(ft1, axis = 1), np.max(ft1, axis = 1), np.median(ft1, axis = 1), np.min(ft1, axis = 1)))\n",
        "        # ft2_trunc = np.hstack((np.mean(ft2), np.std(ft2), skew(ft2), np.max(ft2), np.median(ft2), np.min(ft2)))\n",
        "        # ft3_trunc = np.hstack((np.mean(ft3), np.std(ft3), skew(ft3), np.max(ft3), np.median(ft3), np.min(ft3)))\n",
        "        # ft4_trunc = np.hstack((np.mean(ft4), np.std(ft4), skew(ft4), np.max(ft4), np.median(ft4), np.min(ft4)))\n",
        "        # ft5_trunc = np.hstack((np.mean(ft5), np.std(ft5), skew(ft5), np.max(ft5), np.median(ft5), np.min(ft5)))\n",
        "        # ft6_trunc = np.hstack((np.mean(ft6), np.std(ft6), skew(ft6), np.max(ft6), np.median(ft6), np.max(ft6)))\n",
        "        # return pd.Series(np.hstack((ft1_trunc, ft2_trunc, ft3_trunc, ft4_trunc, ft5_trunc, ft6_trunc)))\n",
        "        return pd.Series(np.hstack((ft1_trunc)))\n",
        "\n",
        "    except:\n",
        "        print('bad file')\n",
        "        return pd.Series([0]*210)\n",
        "\n",
        "\n",
        "# Função para identificar a inteligibilidade dos áudios\n",
        "\n",
        "def get_inteligibilidade(nome_do_audio):\n",
        "  very_low_list = ['M01', 'M04', 'M12', 'F03']\n",
        "  low_list = ['M06', 'M07', 'F02', 'M16']\n",
        "  mid_list = ['M05', 'F04', 'M11']\n",
        "  high_list = ['M08', 'M09', 'M10', 'F04', 'M14']\n",
        "\n",
        "  nome = nome_do_audio.split(os.sep)[-1]\n",
        "  inteligibilidade = nome.split('_')[0]\n",
        "  if inteligibilidade in very_low_list:\n",
        "    return 'very_low'\n",
        "  if inteligibilidade in low_list:\n",
        "    return 'low'\n",
        "  if inteligibilidade in mid_list:\n",
        "    return 'mid'\n",
        "  if inteligibilidade in high_list:\n",
        "    return 'high'\n",
        "  return 'control'\n",
        "\n",
        "# Gera dados de treinamento, palavra por palavra\n",
        "import os\n",
        "import time as tm ###\n",
        "import librosa\n",
        "\n",
        "import glob\n",
        "import numpy as np\n",
        "from IPython.display import Audio\n",
        "from sklearn.model_selection import train_test_split ###\n",
        "\n",
        "import pandas as pd\n",
        "from tqdm.notebook import tqdm\n",
        "tqdm.pandas()\n",
        "\n",
        "import librosa.display as ld\n",
        "from tqdm import tqdm\n",
        "\n",
        "from google.colab import drive\n",
        "drive.mount('/content/drive', True)\n",
        "\n",
        "# Definição de variáveis\n",
        "dir_de_sons = '/content/drive/MyDrive/Jordana/juntos/'\n",
        "\n",
        "print(\"⚙️ Extração MFCC para as palavras\")\n",
        "start = tm.time()\n",
        "\n",
        "# preenche a lista de nomes dos arquivos\n",
        "labels_list = []\n",
        "for name in glob.glob(str(dir_de_sons) + '/*'):\n",
        "  labels_list.append(name.split(os.sep)[-1])\n",
        "\n",
        "\n",
        "# labels_list é a lista de palavras\n",
        "speech_labels_list = []\n",
        "speech_inteligibilidade_list = []\n",
        "speech_data_list = []\n",
        "\n",
        "for label in labels_list:\n",
        "  # label é a palavras sendo dita\n",
        "  i = 0\n",
        "  for name in glob.glob(str(dir_de_sons) + label + '/*'):\n",
        "    speech_data_list.append(name)\n",
        "    speech_labels_list.append(label)\n",
        "    speech_inteligibilidade_list.append(get_inteligibilidade(name))\n",
        "    # i += 1\n",
        "    # if i == 300:\n",
        "    #   break\n",
        "\n",
        "data = pd.DataFrame()\n",
        "data['fname'] = speech_data_list\n",
        "\n",
        "data = data['fname'].progress_apply(get_mfcc)\n",
        "data['fname'] = speech_data_list\n",
        "data['label'] = speech_labels_list\n",
        "data['inteligibilidade'] = speech_inteligibilidade_list"
      ]
    },
    {
      "cell_type": "code",
      "source": [
        "#Salvar dados que serão utilizados no treinamento\n",
        "salva_dados(data, \"com_inteligibilidades.csv\")\n",
        "dados_sem = data.drop('inteligibilidade', axis=1)\n",
        "salva_dados(dados_sem, \"sem_inteligibilidades.csv\")\n"
      ],
      "metadata": {
        "colab": {
          "base_uri": "https://localhost:8080/"
        },
        "id": "25XCRLtCOFAZ",
        "outputId": "6c0c954a-ae1a-48e7-f36d-57cbf4b978b4"
      },
      "execution_count": null,
      "outputs": [
        {
          "output_type": "stream",
          "name": "stdout",
          "text": [
            "Mounted at /content/drive\n",
            "Arquivo {} salvo com_inteligibilidades.csv\n",
            "Mounted at /content/drive\n",
            "Arquivo {} salvo sem_inteligibilidades.csv\n"
          ]
        }
      ]
    },
    {
      "cell_type": "markdown",
      "source": [
        "# Gerar dados de treinamento e teste "
      ],
      "metadata": {
        "id": "rr00Gh5oRMjq"
      }
    },
    {
      "cell_type": "code",
      "source": [
        "# LER DADOS PARA UTILIZAÇÃO EM TREINAMENTO E TESTE\n",
        "import os\n",
        "import time as tm ###\n",
        "import pandas as pd\n",
        "\n",
        "def ler_dados(nome_do_arquivo):\n",
        "  from google.colab import drive\n",
        "  diretorio_google = '/content/drive'\n",
        "  drive.mount(diretorio_google, True)\n",
        "\n",
        "  from pathlib import Path  \n",
        "  filepath = Path(diretorio_google + \"/MyDrive/Jordana/\" + nome_do_arquivo)  \n",
        "\n",
        "  filepath.parent.mkdir(parents=True, exist_ok=True)  \n",
        "  return pd.read_csv(filepath)\n"
      ],
      "metadata": {
        "id": "4qJzSGAeRbN5"
      },
      "execution_count": null,
      "outputs": []
    },
    {
      "cell_type": "markdown",
      "source": [
        "# `Fazendo para os dados SEM inteligibilidade`"
      ],
      "metadata": {
        "id": "zwZw_YIWS1NR"
      }
    },
    {
      "cell_type": "code",
      "source": [
        "# Leitura dos dados sem inteligibilidade\n",
        "import numpy as np\n",
        "\n",
        "dados = ler_dados(\"com_inteligibilidades.csv\")\n",
        "\n",
        "speech_labels_list = dados['label']\n",
        "\n",
        "dados_sem=dados.drop('inteligibilidade', axis=1)\n",
        "\n",
        "# Separar dados de treinamento\n",
        "from sklearn.model_selection import train_test_split ###\n",
        "X_train, X_test_ret, y_train, y_test_ret = train_test_split(dados_sem, speech_labels_list, test_size=0.3)\n",
        "\n",
        "X_test_ret['label'] = np.zeros((len(X_test_ret)))\n",
        "\n"
      ],
      "metadata": {
        "colab": {
          "base_uri": "https://localhost:8080/"
        },
        "id": "z2ICVSGnRkcu",
        "outputId": "9acaf462-ecc1-46d3-ff01-a4aa59399cb7"
      },
      "execution_count": null,
      "outputs": [
        {
          "output_type": "stream",
          "name": "stdout",
          "text": [
            "Mounted at /content/drive\n"
          ]
        }
      ]
    },
    {
      "cell_type": "code",
      "source": [
        "# Functions from Random Foresth using MFCC ttps://www.kaggle.com/amlanpraharaj/random-forest-using-mfcc-features\n",
        "# Construct features set\n",
        "X = X_train.drop(['label', 'fname'], axis=1)\n",
        "feature_names = list(X.columns)\n",
        "X = X.values\n",
        "labels = np.sort(np.unique(X_train.label.values))\n",
        "num_class = len(labels)\n",
        "c2i = {}\n",
        "i2c = {}\n",
        "for i, c in enumerate(labels):\n",
        "    c2i[c] = i\n",
        "    i2c[i] = c\n",
        "y = np.array([c2i[x] for x in X_train.label.values])"
      ],
      "metadata": {
        "id": "9MBRx6V6TpGF"
      },
      "execution_count": null,
      "outputs": []
    },
    {
      "cell_type": "code",
      "source": [
        "X_test = X_test_ret.drop(['label', 'fname'], axis=1)\n",
        "X_test = X_test.values\n",
        "print(X.shape)\n",
        "print(X_test.shape)"
      ],
      "metadata": {
        "colab": {
          "base_uri": "https://localhost:8080/"
        },
        "id": "BdixJRercVxo",
        "outputId": "2c16f2dd-ce76-41a2-cc21-be9dd2d26937"
      },
      "execution_count": null,
      "outputs": [
        {
          "output_type": "stream",
          "name": "stdout",
          "text": [
            "(525, 79)\n",
            "(226, 79)\n"
          ]
        }
      ]
    },
    {
      "cell_type": "code",
      "source": [
        "##Divisão dos dados\n",
        "X_train, X_val, y_train, y_val = train_test_split(X, y, test_size=0.3, random_state=10, shuffle = True)"
      ],
      "metadata": {
        "id": "G-nChCSDcedt"
      },
      "execution_count": null,
      "outputs": []
    },
    {
      "cell_type": "code",
      "source": [
        "#fitting random forest on the dataset\n",
        "import time as tm ###\n",
        "start = tm.time()\n",
        "\n",
        "rfc = RandomForestClassifier(n_estimators = 150)\n",
        "rfc.fit(X_train, y_train)\n",
        "def proba2labels(preds, i2c, k=3):\n",
        "    ans = []\n",
        "    ids = []\n",
        "    for p in preds:\n",
        "        idx = np.argsort(p)[::-1]\n",
        "        ids.append([i for i in idx[:k]])\n",
        "        ans.append(' '.join([i2c[i] for i in idx[:k]]))\n",
        "\n",
        "    return ans, ids\n",
        "#checking the accuracy of the model\n",
        "print(rfc.score(X_val, y_val))\n",
        "\n",
        "end = tm.time()\n",
        "print(\"✅ Concluído. Execução: {} segundos.\".format(round(end-start,2)))"
      ],
      "metadata": {
        "colab": {
          "base_uri": "https://localhost:8080/"
        },
        "id": "GVrkHu5MafQF",
        "outputId": "752889c6-e715-4d19-fc17-355b5100eaf8"
      },
      "execution_count": null,
      "outputs": [
        {
          "output_type": "stream",
          "name": "stdout",
          "text": [
            "0.9936708860759493\n",
            "✅ Concluído. Execução: 0.37 segundos.\n"
          ]
        }
      ]
    },
    {
      "cell_type": "code",
      "source": [
        "###Salvar os melhores parâmetros do Random Forest\n",
        "import time as tm ###\n",
        "start = tm.time()\n",
        "\n",
        "import pandas as pd\n",
        "\n",
        "data_best_params = pd.DataFrame()\n",
        "# diction = grid.best_params_\n",
        "# diction = {'criterion': 'entropy', 'max_depth': 5, 'min_samples_leaf': 1, 'min_samples_split': 2, 'n_estimators': 150}\n",
        "diction = {'criterion': 'entropy', 'max_depth': 5, 'min_samples_leaf': 2, 'min_samples_split': 2, 'n_estimators': 200}\n",
        "\n",
        "data_best_params = data_best_params.append( diction, ignore_index=True)\n",
        "\n",
        "#Salvar dados de treinamento\n",
        "from google.colab import drive\n",
        "diretorio_google = '/content/drive'\n",
        "drive.mount(diretorio_google, True)\n",
        "\n",
        "from pathlib import Path  \n",
        "filepath = Path(diretorio_google + \"/MyDrive/Jordana/\" + \"best_params_100_words_knn_RF_sem_inteligibilidade.csv\")  \n",
        "filepath.parent.mkdir(parents=True, exist_ok=True)  \n",
        "data_best_params.to_csv(filepath)\n",
        "\n",
        "end = tm.time()\n",
        "print(\"✅ Concluído. Execução: {} segundos.\".format(round(end-start,2)))  "
      ],
      "metadata": {
        "colab": {
          "base_uri": "https://localhost:8080/"
        },
        "id": "C0dFGcGbhRGW",
        "outputId": "252465d8-9feb-4695-9e15-7a89e9c23b26"
      },
      "execution_count": null,
      "outputs": [
        {
          "output_type": "stream",
          "name": "stdout",
          "text": [
            "Mounted at /content/drive\n",
            "✅ Concluído. Execução: 4.84 segundos.\n"
          ]
        }
      ]
    },
    {
      "cell_type": "code",
      "source": [
        "data_best_params.head()"
      ],
      "metadata": {
        "colab": {
          "base_uri": "https://localhost:8080/",
          "height": 81
        },
        "id": "3InTGwNwiHHV",
        "outputId": "4f55ae73-a4e5-463a-fca8-6e2d2b6ff9de"
      },
      "execution_count": null,
      "outputs": [
        {
          "output_type": "execute_result",
          "data": {
            "text/plain": [
              "  criterion  max_depth  min_samples_leaf  min_samples_split  n_estimators\n",
              "0   entropy        5.0               2.0                2.0         200.0"
            ],
            "text/html": [
              "\n",
              "  <div id=\"df-0332cabe-869a-49bd-9265-cff70ea99f9f\">\n",
              "    <div class=\"colab-df-container\">\n",
              "      <div>\n",
              "<style scoped>\n",
              "    .dataframe tbody tr th:only-of-type {\n",
              "        vertical-align: middle;\n",
              "    }\n",
              "\n",
              "    .dataframe tbody tr th {\n",
              "        vertical-align: top;\n",
              "    }\n",
              "\n",
              "    .dataframe thead th {\n",
              "        text-align: right;\n",
              "    }\n",
              "</style>\n",
              "<table border=\"1\" class=\"dataframe\">\n",
              "  <thead>\n",
              "    <tr style=\"text-align: right;\">\n",
              "      <th></th>\n",
              "      <th>criterion</th>\n",
              "      <th>max_depth</th>\n",
              "      <th>min_samples_leaf</th>\n",
              "      <th>min_samples_split</th>\n",
              "      <th>n_estimators</th>\n",
              "    </tr>\n",
              "  </thead>\n",
              "  <tbody>\n",
              "    <tr>\n",
              "      <th>0</th>\n",
              "      <td>entropy</td>\n",
              "      <td>5.0</td>\n",
              "      <td>2.0</td>\n",
              "      <td>2.0</td>\n",
              "      <td>200.0</td>\n",
              "    </tr>\n",
              "  </tbody>\n",
              "</table>\n",
              "</div>\n",
              "      <button class=\"colab-df-convert\" onclick=\"convertToInteractive('df-0332cabe-869a-49bd-9265-cff70ea99f9f')\"\n",
              "              title=\"Convert this dataframe to an interactive table.\"\n",
              "              style=\"display:none;\">\n",
              "        \n",
              "  <svg xmlns=\"http://www.w3.org/2000/svg\" height=\"24px\"viewBox=\"0 0 24 24\"\n",
              "       width=\"24px\">\n",
              "    <path d=\"M0 0h24v24H0V0z\" fill=\"none\"/>\n",
              "    <path d=\"M18.56 5.44l.94 2.06.94-2.06 2.06-.94-2.06-.94-.94-2.06-.94 2.06-2.06.94zm-11 1L8.5 8.5l.94-2.06 2.06-.94-2.06-.94L8.5 2.5l-.94 2.06-2.06.94zm10 10l.94 2.06.94-2.06 2.06-.94-2.06-.94-.94-2.06-.94 2.06-2.06.94z\"/><path d=\"M17.41 7.96l-1.37-1.37c-.4-.4-.92-.59-1.43-.59-.52 0-1.04.2-1.43.59L10.3 9.45l-7.72 7.72c-.78.78-.78 2.05 0 2.83L4 21.41c.39.39.9.59 1.41.59.51 0 1.02-.2 1.41-.59l7.78-7.78 2.81-2.81c.8-.78.8-2.07 0-2.86zM5.41 20L4 18.59l7.72-7.72 1.47 1.35L5.41 20z\"/>\n",
              "  </svg>\n",
              "      </button>\n",
              "      \n",
              "  <style>\n",
              "    .colab-df-container {\n",
              "      display:flex;\n",
              "      flex-wrap:wrap;\n",
              "      gap: 12px;\n",
              "    }\n",
              "\n",
              "    .colab-df-convert {\n",
              "      background-color: #E8F0FE;\n",
              "      border: none;\n",
              "      border-radius: 50%;\n",
              "      cursor: pointer;\n",
              "      display: none;\n",
              "      fill: #1967D2;\n",
              "      height: 32px;\n",
              "      padding: 0 0 0 0;\n",
              "      width: 32px;\n",
              "    }\n",
              "\n",
              "    .colab-df-convert:hover {\n",
              "      background-color: #E2EBFA;\n",
              "      box-shadow: 0px 1px 2px rgba(60, 64, 67, 0.3), 0px 1px 3px 1px rgba(60, 64, 67, 0.15);\n",
              "      fill: #174EA6;\n",
              "    }\n",
              "\n",
              "    [theme=dark] .colab-df-convert {\n",
              "      background-color: #3B4455;\n",
              "      fill: #D2E3FC;\n",
              "    }\n",
              "\n",
              "    [theme=dark] .colab-df-convert:hover {\n",
              "      background-color: #434B5C;\n",
              "      box-shadow: 0px 1px 3px 1px rgba(0, 0, 0, 0.15);\n",
              "      filter: drop-shadow(0px 1px 2px rgba(0, 0, 0, 0.3));\n",
              "      fill: #FFFFFF;\n",
              "    }\n",
              "  </style>\n",
              "\n",
              "      <script>\n",
              "        const buttonEl =\n",
              "          document.querySelector('#df-0332cabe-869a-49bd-9265-cff70ea99f9f button.colab-df-convert');\n",
              "        buttonEl.style.display =\n",
              "          google.colab.kernel.accessAllowed ? 'block' : 'none';\n",
              "\n",
              "        async function convertToInteractive(key) {\n",
              "          const element = document.querySelector('#df-0332cabe-869a-49bd-9265-cff70ea99f9f');\n",
              "          const dataTable =\n",
              "            await google.colab.kernel.invokeFunction('convertToInteractive',\n",
              "                                                     [key], {});\n",
              "          if (!dataTable) return;\n",
              "\n",
              "          const docLinkHtml = 'Like what you see? Visit the ' +\n",
              "            '<a target=\"_blank\" href=https://colab.research.google.com/notebooks/data_table.ipynb>data table notebook</a>'\n",
              "            + ' to learn more about interactive tables.';\n",
              "          element.innerHTML = '';\n",
              "          dataTable['output_type'] = 'display_data';\n",
              "          await google.colab.output.renderOutput(dataTable, element);\n",
              "          const docLink = document.createElement('div');\n",
              "          docLink.innerHTML = docLinkHtml;\n",
              "          element.appendChild(docLink);\n",
              "        }\n",
              "      </script>\n",
              "    </div>\n",
              "  </div>\n",
              "  "
            ]
          },
          "metadata": {},
          "execution_count": 65
        }
      ]
    },
    {
      "cell_type": "markdown",
      "source": [
        "# `Fazendo para os dados COM inteligibilidade`"
      ],
      "metadata": {
        "id": "9CQLlfgmTGfK"
      }
    },
    {
      "cell_type": "code",
      "source": [
        "from pandas.core.arrays.categorical import pd_array\n",
        "# Função para separar dados de teste e de treinamento especial para excluir alguns itens\n",
        "import random\n",
        "\n",
        "def random_unique(lista, quantidade):\n",
        "  retorno = []\n",
        "\n",
        "  if quantidade < len(lista):\n",
        "    while len(retorno)<quantidade:\n",
        "      escolhido = random.choice(lista)\n",
        "      if escolhido not in retorno:\n",
        "        retorno.append(escolhido)\n",
        "    return retorno\n",
        "  return lista\n",
        "\n",
        "def drop_others(lista, preserve_list):\n",
        "  retorno = lista\n",
        "  todos = list(range(len(lista)))\n",
        "  todos = list(set(todos) - set(preserve_list))\n",
        "  for i in todos:\n",
        "    retorno = retorno.drop(i)\n",
        "  print(\"Tamanho de retorno \", len(retorno))\n",
        "  return retorno\n",
        "\n",
        "\n",
        "def train_test_split_dysarthric(X, inteligibilidades, test_size=0.3):\n",
        "  falas_por_inteligibilidade = {}\n",
        "  falas_por_inteligibilidade_train = {}\n",
        "  falas_por_inteligibilidade_test = {}\n",
        "\n",
        "  falas_por_inteligibilidade_train = []\n",
        "\n",
        "  # Cria o dicionário com as inteligibilidades\n",
        "  for inteligibilidade in inteligibilidades:\n",
        "    falas_por_inteligibilidade[inteligibilidades[inteligibilidade]] = []\n",
        "    falas_por_inteligibilidade_test[inteligibilidades[inteligibilidade]] = []\n",
        "\n",
        "  # Cria os índices para cada fala de acordo com sua inteligibilidade\n",
        "  i = range(len(X))\n",
        "  for index in i:\n",
        "     inteligibilidade_da_fala = X.iloc[index]['inteligibilidade']\n",
        "     if inteligibilidade_da_fala in inteligibilidades:\n",
        "        indice_da_inteligibilidade_da_fala = inteligibilidade_list[inteligibilidade_da_fala]\n",
        "        falas_por_inteligibilidade[indice_da_inteligibilidade_da_fala].append(index)\n",
        "\n",
        "  # Define os testes para cada inteligibilidade de acordo com o parâmetro passado\n",
        "  for inteligibilidade_indice in inteligibilidades:\n",
        "    indice = inteligibilidades[inteligibilidade_indice]\n",
        "    # Define a quantidade de testes para a inteligibilidade\n",
        "    n_test = (int) (len(falas_por_inteligibilidade[indice]) * test_size)\n",
        "    print(\"Vamos fazer \", n_test, \" testes para a inteligibilidade \", inteligibilidade_indice)\n",
        "    # Recupera indices sorteados para teste pra a inteligibilidade atual\n",
        "    falas_por_inteligibilidade_test[indice] = random_unique(falas_por_inteligibilidade[indice], n_test)\n",
        "\n",
        "  # Seleciona as falas que serão utilizadas para teste para separar as de treinamento\n",
        "  falas_para_teste = []\n",
        "  i = range(len(falas_por_inteligibilidade_test))\n",
        "  for index in i:\n",
        "    falas_para_teste = falas_para_teste + falas_por_inteligibilidade_test[index]\n",
        "  # As falas para treino são aquelas não utilizadas para testes\n",
        "  falas_para_treino = list(set(range(len(X))) - set(falas_para_teste))\n",
        "\n",
        "  print(\"Decidindo os treinos para um total de testes = \", len(falas_para_teste))\n",
        "  ret_falas_para_treino = drop_others(X, falas_para_treino)\n",
        "  ret_falas_para_treino = ret_falas_para_treino.drop('inteligibilidade', axis=1)\n",
        "\n",
        "  ret_falas_para_teste = []\n",
        "  \n",
        "  for inteligibilidade_indice in inteligibilidades:\n",
        "    indice = inteligibilidades[inteligibilidade_indice]\n",
        "    print(\"Decidindo os testes\")\n",
        "    todos = list(range(len(X)))\n",
        "    lista_de_teste = drop_others(X, falas_por_inteligibilidade_test[indice])\n",
        "    ret_falas_para_teste.append(lista_de_teste.drop('inteligibilidade', axis=1))\n",
        "\n",
        "  y_train = pd.DataFrame(ret_falas_para_treino, columns = ['label'])\n",
        "\n",
        "  y_train = y_train.squeeze()\n",
        "\n",
        "  y_test = []\n",
        "\n",
        "  for i in range(len(ret_falas_para_teste)):\n",
        "    y_ = pd.DataFrame(ret_falas_para_treino, columns = ['label'])\n",
        "    y_test.append(y_.squeeze())\n",
        "\n",
        "  return ret_falas_para_treino, ret_falas_para_teste, y_train, y_test"
      ],
      "metadata": {
        "id": "Dv-IigZOdCo6"
      },
      "execution_count": null,
      "outputs": []
    },
    {
      "cell_type": "code",
      "source": [
        "# Leitura dos dados com inteligibilidade\n",
        "import numpy as np\n",
        "\n",
        "dados = ler_dados(\"com_inteligibilidades.csv\")\n",
        "\n",
        "speech_labels_list = dados['label']\n",
        "\n",
        "#Recupera os dados de treinamento e teste:\n",
        "inteligibilidade_list = {'very_low':0, 'low':1,'mid':2,'high':3, 'control': 4}\n",
        "\n",
        "X_train, X_test_ret, y_train, y_test_ret  = train_test_split_dysarthric(dados, inteligibilidade_list)\n",
        "\n",
        "for i in range(len(X_test_ret) - 1):\n",
        "  X_test_ret[i]['label'] = np.zeros((len(X_test_ret[i])))\n",
        "\n",
        "\n",
        "\n",
        "\n",
        "\n"
      ],
      "metadata": {
        "colab": {
          "base_uri": "https://localhost:8080/"
        },
        "id": "ZyOL0EKNcwh6",
        "outputId": "5cad2e35-87fc-4161-d81e-77d7dd2cbf54"
      },
      "execution_count": null,
      "outputs": [
        {
          "output_type": "stream",
          "name": "stdout",
          "text": [
            "Mounted at /content/drive\n",
            "Vamos fazer  26  testes para a inteligibilidade  very_low\n",
            "Vamos fazer  24  testes para a inteligibilidade  low\n",
            "Vamos fazer  24  testes para a inteligibilidade  mid\n",
            "Vamos fazer  33  testes para a inteligibilidade  high\n",
            "Vamos fazer  117  testes para a inteligibilidade  control\n",
            "Decidindo os treinos para um total de testes =  224\n",
            "Tamanho de retorno  527\n",
            "Decidindo os testes\n",
            "Tamanho de retorno  26\n",
            "Decidindo os testes\n",
            "Tamanho de retorno  24\n",
            "Decidindo os testes\n",
            "Tamanho de retorno  24\n",
            "Decidindo os testes\n",
            "Tamanho de retorno  33\n",
            "Decidindo os testes\n",
            "Tamanho de retorno  117\n"
          ]
        }
      ]
    },
    {
      "cell_type": "code",
      "source": [
        "# Functions from Random Foresth using MFCC ttps://www.kaggle.com/amlanpraharaj/random-forest-using-mfcc-features\n",
        "# Construct features set\n",
        "X = X_train.drop(['label', 'fname'], axis=1)\n",
        "feature_names = list(X.columns)\n",
        "X = X.values\n",
        "labels = np.sort(np.unique(X_train.label.values))\n",
        "num_class = len(labels)\n",
        "c2i = {}\n",
        "i2c = {}\n",
        "for i, c in enumerate(labels):\n",
        "    c2i[c] = i\n",
        "    i2c[i] = c\n",
        "y = np.array([c2i[x] for x in X_train.label.values])"
      ],
      "metadata": {
        "id": "PmSs3NrReyQT"
      },
      "execution_count": null,
      "outputs": []
    },
    {
      "cell_type": "code",
      "source": [
        "X_test = []\n",
        "for i in range(len(X_test_ret)):\n",
        "  X_temp = X_test_ret[i].drop(['label', 'fname'], axis=1)\n",
        "  X_test.append(X_temp.values)\n",
        "  print(X.shape)\n",
        "  print(X_test[i].shape)\n"
      ],
      "metadata": {
        "colab": {
          "base_uri": "https://localhost:8080/"
        },
        "id": "Q89uq4cJe5AJ",
        "outputId": "bb113da3-88f5-4c5c-bd57-f990b1a594d4"
      },
      "execution_count": null,
      "outputs": [
        {
          "output_type": "stream",
          "name": "stdout",
          "text": [
            "(527, 79)\n",
            "(26, 79)\n",
            "(527, 79)\n",
            "(24, 79)\n",
            "(527, 79)\n",
            "(24, 79)\n",
            "(527, 79)\n",
            "(33, 79)\n",
            "(527, 79)\n",
            "(117, 79)\n"
          ]
        }
      ]
    },
    {
      "cell_type": "code",
      "source": [
        "X_train, X_val, y_train, y_val = train_test_split(X, y, test_size=0.3, random_state=10, shuffle = True)"
      ],
      "metadata": {
        "id": "hop_HjYyf75O"
      },
      "execution_count": null,
      "outputs": []
    },
    {
      "cell_type": "code",
      "source": [
        "#fitting random forest on the dataset\n",
        "import time as tm ###\n",
        "start = tm.time()\n",
        "\n",
        "rfc = RandomForestClassifier(n_estimators = 150)\n",
        "rfc.fit(X_train, y_train)\n",
        "def proba2labels(preds, i2c, k=3):\n",
        "    ans = []\n",
        "    ids = []\n",
        "    for p in preds:\n",
        "        idx = np.argsort(p)[::-1]\n",
        "        ids.append([i for i in idx[:k]])\n",
        "        ans.append(' '.join([i2c[i] for i in idx[:k]]))\n",
        "\n",
        "    return ans, ids\n",
        "#checking the accuracy of the model\n",
        "print(rfc.score(X_val, y_val))\n",
        "\n",
        "end = tm.time()\n",
        "print(\"✅ Concluído. Execução: {} segundos.\".format(round(end-start,2)))"
      ],
      "metadata": {
        "colab": {
          "base_uri": "https://localhost:8080/"
        },
        "id": "JgDw0TcigHOP",
        "outputId": "917b170c-1e6f-4b0c-b8a4-7adf7ff32de7"
      },
      "execution_count": null,
      "outputs": [
        {
          "output_type": "stream",
          "name": "stdout",
          "text": [
            "1.0\n",
            "✅ Concluído. Execução: 0.41 segundos.\n"
          ]
        }
      ]
    },
    {
      "cell_type": "code",
      "source": [
        "###Salvar os melhores parâmetros do Random Forest\n",
        "import time as tm ###\n",
        "start = tm.time()\n",
        "\n",
        "import pandas as pd\n",
        "\n",
        "data_best_params = pd.DataFrame()\n",
        "# diction = grid.best_params_\n",
        "# diction = {'criterion': 'entropy', 'max_depth': 5, 'min_samples_leaf': 1, 'min_samples_split': 2, 'n_estimators': 150}\n",
        "diction = {'criterion': 'entropy', 'max_depth': 5, 'min_samples_leaf': 2, 'min_samples_split': 2, 'n_estimators': 200}\n",
        "\n",
        "data_best_params = data_best_params.append( diction, ignore_index=True)\n",
        "\n",
        "#Salvar dados de treinamento\n",
        "from google.colab import drive\n",
        "diretorio_google = '/content/drive'\n",
        "drive.mount(diretorio_google, True)\n",
        "\n",
        "from pathlib import Path  \n",
        "filepath = Path(diretorio_google + \"/MyDrive/Jordana/\" + \"best_params_100_words_knn_RF_sem_inteligibilidade.csv\")  \n",
        "filepath.parent.mkdir(parents=True, exist_ok=True)  \n",
        "data_best_params.to_csv(filepath)\n",
        "\n",
        "end = tm.time()\n",
        "print(\"✅ Concluído. Execução: {} segundos.\".format(round(end-start,2)))  "
      ],
      "metadata": {
        "colab": {
          "base_uri": "https://localhost:8080/"
        },
        "id": "3tpkzEvsgdTP",
        "outputId": "4373a0eb-2de9-43c8-9365-6763e8796e1d"
      },
      "execution_count": null,
      "outputs": [
        {
          "output_type": "stream",
          "name": "stdout",
          "text": [
            "Mounted at /content/drive\n",
            "✅ Concluído. Execução: 4.91 segundos.\n"
          ]
        }
      ]
    },
    {
      "cell_type": "code",
      "source": [
        "data_best_params.head()"
      ],
      "metadata": {
        "colab": {
          "base_uri": "https://localhost:8080/",
          "height": 81
        },
        "id": "6FW-TbcNhBWf",
        "outputId": "b793f238-2869-40e0-fa06-74e06b8d338b"
      },
      "execution_count": null,
      "outputs": [
        {
          "output_type": "execute_result",
          "data": {
            "text/plain": [
              "  criterion  max_depth  min_samples_leaf  min_samples_split  n_estimators\n",
              "0   entropy        5.0               2.0                2.0         200.0"
            ],
            "text/html": [
              "\n",
              "  <div id=\"df-ebde2093-e877-46a4-b326-6b160ad13997\">\n",
              "    <div class=\"colab-df-container\">\n",
              "      <div>\n",
              "<style scoped>\n",
              "    .dataframe tbody tr th:only-of-type {\n",
              "        vertical-align: middle;\n",
              "    }\n",
              "\n",
              "    .dataframe tbody tr th {\n",
              "        vertical-align: top;\n",
              "    }\n",
              "\n",
              "    .dataframe thead th {\n",
              "        text-align: right;\n",
              "    }\n",
              "</style>\n",
              "<table border=\"1\" class=\"dataframe\">\n",
              "  <thead>\n",
              "    <tr style=\"text-align: right;\">\n",
              "      <th></th>\n",
              "      <th>criterion</th>\n",
              "      <th>max_depth</th>\n",
              "      <th>min_samples_leaf</th>\n",
              "      <th>min_samples_split</th>\n",
              "      <th>n_estimators</th>\n",
              "    </tr>\n",
              "  </thead>\n",
              "  <tbody>\n",
              "    <tr>\n",
              "      <th>0</th>\n",
              "      <td>entropy</td>\n",
              "      <td>5.0</td>\n",
              "      <td>2.0</td>\n",
              "      <td>2.0</td>\n",
              "      <td>200.0</td>\n",
              "    </tr>\n",
              "  </tbody>\n",
              "</table>\n",
              "</div>\n",
              "      <button class=\"colab-df-convert\" onclick=\"convertToInteractive('df-ebde2093-e877-46a4-b326-6b160ad13997')\"\n",
              "              title=\"Convert this dataframe to an interactive table.\"\n",
              "              style=\"display:none;\">\n",
              "        \n",
              "  <svg xmlns=\"http://www.w3.org/2000/svg\" height=\"24px\"viewBox=\"0 0 24 24\"\n",
              "       width=\"24px\">\n",
              "    <path d=\"M0 0h24v24H0V0z\" fill=\"none\"/>\n",
              "    <path d=\"M18.56 5.44l.94 2.06.94-2.06 2.06-.94-2.06-.94-.94-2.06-.94 2.06-2.06.94zm-11 1L8.5 8.5l.94-2.06 2.06-.94-2.06-.94L8.5 2.5l-.94 2.06-2.06.94zm10 10l.94 2.06.94-2.06 2.06-.94-2.06-.94-.94-2.06-.94 2.06-2.06.94z\"/><path d=\"M17.41 7.96l-1.37-1.37c-.4-.4-.92-.59-1.43-.59-.52 0-1.04.2-1.43.59L10.3 9.45l-7.72 7.72c-.78.78-.78 2.05 0 2.83L4 21.41c.39.39.9.59 1.41.59.51 0 1.02-.2 1.41-.59l7.78-7.78 2.81-2.81c.8-.78.8-2.07 0-2.86zM5.41 20L4 18.59l7.72-7.72 1.47 1.35L5.41 20z\"/>\n",
              "  </svg>\n",
              "      </button>\n",
              "      \n",
              "  <style>\n",
              "    .colab-df-container {\n",
              "      display:flex;\n",
              "      flex-wrap:wrap;\n",
              "      gap: 12px;\n",
              "    }\n",
              "\n",
              "    .colab-df-convert {\n",
              "      background-color: #E8F0FE;\n",
              "      border: none;\n",
              "      border-radius: 50%;\n",
              "      cursor: pointer;\n",
              "      display: none;\n",
              "      fill: #1967D2;\n",
              "      height: 32px;\n",
              "      padding: 0 0 0 0;\n",
              "      width: 32px;\n",
              "    }\n",
              "\n",
              "    .colab-df-convert:hover {\n",
              "      background-color: #E2EBFA;\n",
              "      box-shadow: 0px 1px 2px rgba(60, 64, 67, 0.3), 0px 1px 3px 1px rgba(60, 64, 67, 0.15);\n",
              "      fill: #174EA6;\n",
              "    }\n",
              "\n",
              "    [theme=dark] .colab-df-convert {\n",
              "      background-color: #3B4455;\n",
              "      fill: #D2E3FC;\n",
              "    }\n",
              "\n",
              "    [theme=dark] .colab-df-convert:hover {\n",
              "      background-color: #434B5C;\n",
              "      box-shadow: 0px 1px 3px 1px rgba(0, 0, 0, 0.15);\n",
              "      filter: drop-shadow(0px 1px 2px rgba(0, 0, 0, 0.3));\n",
              "      fill: #FFFFFF;\n",
              "    }\n",
              "  </style>\n",
              "\n",
              "      <script>\n",
              "        const buttonEl =\n",
              "          document.querySelector('#df-ebde2093-e877-46a4-b326-6b160ad13997 button.colab-df-convert');\n",
              "        buttonEl.style.display =\n",
              "          google.colab.kernel.accessAllowed ? 'block' : 'none';\n",
              "\n",
              "        async function convertToInteractive(key) {\n",
              "          const element = document.querySelector('#df-ebde2093-e877-46a4-b326-6b160ad13997');\n",
              "          const dataTable =\n",
              "            await google.colab.kernel.invokeFunction('convertToInteractive',\n",
              "                                                     [key], {});\n",
              "          if (!dataTable) return;\n",
              "\n",
              "          const docLinkHtml = 'Like what you see? Visit the ' +\n",
              "            '<a target=\"_blank\" href=https://colab.research.google.com/notebooks/data_table.ipynb>data table notebook</a>'\n",
              "            + ' to learn more about interactive tables.';\n",
              "          element.innerHTML = '';\n",
              "          dataTable['output_type'] = 'display_data';\n",
              "          await google.colab.output.renderOutput(dataTable, element);\n",
              "          const docLink = document.createElement('div');\n",
              "          docLink.innerHTML = docLinkHtml;\n",
              "          element.appendChild(docLink);\n",
              "        }\n",
              "      </script>\n",
              "    </div>\n",
              "  </div>\n",
              "  "
            ]
          },
          "metadata": {},
          "execution_count": 73
        }
      ]
    }
  ]
}